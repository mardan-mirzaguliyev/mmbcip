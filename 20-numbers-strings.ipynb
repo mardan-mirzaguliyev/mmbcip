{
 "cells": [
  {
   "cell_type": "markdown",
   "id": "5c2d7b6f-a1bf-4e6e-bf23-f04f4a4bf704",
   "metadata": {
    "jp-MarkdownHeadingCollapsed": true
   },
   "source": [
    "# Load necessary libraries"
   ]
  },
  {
   "cell_type": "code",
   "execution_count": 45,
   "id": "c4d747ee-2a36-475b-a49c-3776788904ef",
   "metadata": {},
   "outputs": [],
   "source": [
    "import numpy as np"
   ]
  },
  {
   "cell_type": "markdown",
   "id": "8133e782-04ab-4672-a05a-44e58f96d652",
   "metadata": {},
   "source": [
    "# Lecture"
   ]
  },
  {
   "cell_type": "markdown",
   "id": "255a7c6a-d310-4ad6-9b10-c90ecf29628c",
   "metadata": {},
   "source": [
    "## Numbers"
   ]
  },
  {
   "cell_type": "code",
   "execution_count": 48,
   "id": "2475eb12-650d-443b-a88c-76c659baffe1",
   "metadata": {},
   "outputs": [],
   "source": [
    "c = 7\n",
    "d = 7.0"
   ]
  },
  {
   "cell_type": "code",
   "execution_count": 49,
   "id": "55ecf83f-e6ba-4868-a743-160a0ec0e56e",
   "metadata": {},
   "outputs": [
    {
     "name": "stdout",
     "output_type": "stream",
     "text": [
      "7 7.0\n"
     ]
    }
   ],
   "source": [
    "print(c, d)"
   ]
  },
  {
   "cell_type": "code",
   "execution_count": 50,
   "id": "35cf0bbb-e995-47aa-b7ba-26819643243b",
   "metadata": {},
   "outputs": [
    {
     "name": "stdout",
     "output_type": "stream",
     "text": [
      "<class 'int'>\n"
     ]
    }
   ],
   "source": [
    "print(type(c))"
   ]
  },
  {
   "cell_type": "code",
   "execution_count": 51,
   "id": "00048638-ab99-4f9d-a81a-933bd888d564",
   "metadata": {},
   "outputs": [
    {
     "name": "stdout",
     "output_type": "stream",
     "text": [
      "<class 'float'>\n"
     ]
    }
   ],
   "source": [
    "print(type(d))"
   ]
  },
  {
   "cell_type": "code",
   "execution_count": 52,
   "id": "1527968a-f0f4-42d6-8f97-35b1de9103e1",
   "metadata": {},
   "outputs": [
    {
     "name": "stdout",
     "output_type": "stream",
     "text": [
      "0\n",
      "1\n",
      "2\n",
      "3\n",
      "4\n",
      "5\n",
      "6\n"
     ]
    }
   ],
   "source": [
    "for i in range(0, c):\n",
    "    print(i)"
   ]
  },
  {
   "cell_type": "code",
   "execution_count": 53,
   "id": "f77c152b-2aa8-48c6-aa46-989ddc872f91",
   "metadata": {},
   "outputs": [],
   "source": [
    "# for i in range(d):\n",
    "#     print(i)\n",
    "\n",
    "# TypeError: 'float' object cannot be interpreted as an integer"
   ]
  },
  {
   "cell_type": "code",
   "execution_count": 54,
   "id": "1f8d0d51-c2ef-4624-b4e3-5ded4b88e12c",
   "metadata": {},
   "outputs": [
    {
     "data": {
      "text/plain": [
       "14.0"
      ]
     },
     "execution_count": 54,
     "metadata": {},
     "output_type": "execute_result"
    }
   ],
   "source": [
    "c + d "
   ]
  },
  {
   "cell_type": "markdown",
   "id": "cf17d68a-49ca-4238-bd37-3201b9369a27",
   "metadata": {},
   "source": [
    "## Strings"
   ]
  },
  {
   "cell_type": "code",
   "execution_count": 73,
   "id": "70a264bf-c1c7-462a-bfa5-60287b93bd6b",
   "metadata": {},
   "outputs": [],
   "source": [
    "first_name = \"Mike\"\n",
    "last_name = \"Cohen\""
   ]
  },
  {
   "cell_type": "code",
   "execution_count": 75,
   "id": "c760348d-bed4-46bf-8ff2-e94f262bb2c9",
   "metadata": {},
   "outputs": [
    {
     "data": {
      "text/plain": [
       "str"
      ]
     },
     "execution_count": 75,
     "metadata": {},
     "output_type": "execute_result"
    }
   ],
   "source": [
    "type(first_name)"
   ]
  },
  {
   "cell_type": "code",
   "execution_count": 79,
   "id": "eb1fc61d-7636-40dd-a7b9-e44a9087d04b",
   "metadata": {},
   "outputs": [
    {
     "data": {
      "text/plain": [
       "'Mike Cohen'"
      ]
     },
     "execution_count": 79,
     "metadata": {},
     "output_type": "execute_result"
    }
   ],
   "source": [
    "first_name + \" \" + last_name"
   ]
  },
  {
   "cell_type": "code",
   "execution_count": 81,
   "id": "b872b1af-86f0-4cc3-93d8-294ab94f9d7b",
   "metadata": {},
   "outputs": [
    {
     "data": {
      "text/plain": [
       "49.0"
      ]
     },
     "execution_count": 81,
     "metadata": {},
     "output_type": "execute_result"
    }
   ],
   "source": [
    "c*d"
   ]
  },
  {
   "cell_type": "code",
   "execution_count": 83,
   "id": "4030b82b-a924-41d6-98e2-0f4edc6b8d30",
   "metadata": {},
   "outputs": [
    {
     "data": {
      "text/plain": [
       "'MikeMikeMikeMikeMikeMikeMike'"
      ]
     },
     "execution_count": 83,
     "metadata": {},
     "output_type": "execute_result"
    }
   ],
   "source": [
    "first_name * c "
   ]
  },
  {
   "cell_type": "code",
   "execution_count": 89,
   "id": "62d9158f-e94b-4587-bad7-ad4af419262c",
   "metadata": {},
   "outputs": [],
   "source": [
    "# first_name * d\n",
    "\n",
    "# TypeError: can't multiply sequence by non-int of type 'float'"
   ]
  },
  {
   "cell_type": "code",
   "execution_count": 96,
   "id": "60f31036-4d8d-41d4-a435-dd9d063a747f",
   "metadata": {},
   "outputs": [
    {
     "name": "stdout",
     "output_type": "stream",
     "text": [
      "Variable               Type        Data/Info\n",
      "--------------------------------------------\n",
      "c                      int         7\n",
      "d                      float       7.0\n",
      "dataframe_columns      function    <function dataframe_columns at 0x1320e7c40>\n",
      "dataframe_hash         function    <function dataframe_hash at 0x1320e7e20>\n",
      "dtypes_str             function    <function dtypes_str at 0x1320e7880>\n",
      "first_name             str         Mike\n",
      "get_dataframes         function    <function get_dataframes at 0x1320e79c0>\n",
      "getpass                module      <module 'getpass' from '/<...>b/python3.12/getpass.py'>\n",
      "hashlib                module      <module 'hashlib' from '/<...>b/python3.12/hashlib.py'>\n",
      "i                      int         6\n",
      "import_pandas_safely   function    <function import_pandas_safely at 0x1320e7740>\n",
      "is_data_frame          function    <function is_data_frame at 0x1320e7ba0>\n",
      "json                   module      <module 'json' from '/opt<...>on3.12/json/__init__.py'>\n",
      "last_name              str         Cohen\n",
      "np                     module      <module 'numpy' from '/op<...>kages/numpy/__init__.py'>\n"
     ]
    }
   ],
   "source": [
    "%whos"
   ]
  },
  {
   "cell_type": "markdown",
   "id": "7d2b9f43-83a7-4e67-a76d-fe994d9cdd65",
   "metadata": {},
   "source": [
    "# Exercise - my solution"
   ]
  },
  {
   "cell_type": "code",
   "execution_count": 103,
   "id": "47b3e98f-8502-42a9-ac0c-da7db4850684",
   "metadata": {},
   "outputs": [],
   "source": [
    "s1 = \"4\"\n",
    "s2 = \"4.7\"\n",
    "n1 = 5\n",
    "n2 = 5.8"
   ]
  },
  {
   "cell_type": "markdown",
   "id": "1be45870-ba88-48b0-83fc-e4a2804e82da",
   "metadata": {},
   "source": [
    "## 1"
   ]
  },
  {
   "cell_type": "code",
   "execution_count": 114,
   "id": "c786924f-4b47-4113-9222-f079ca8cd6ae",
   "metadata": {},
   "outputs": [
    {
     "data": {
      "text/plain": [
       "int"
      ]
     },
     "execution_count": 114,
     "metadata": {},
     "output_type": "execute_result"
    }
   ],
   "source": [
    "s1_int = int(s1)\n",
    "type(s1_int)"
   ]
  },
  {
   "cell_type": "code",
   "execution_count": 118,
   "id": "07233fbc-1c98-4f9d-b313-b6dfaf7ac41d",
   "metadata": {},
   "outputs": [
    {
     "data": {
      "text/plain": [
       "float"
      ]
     },
     "execution_count": 118,
     "metadata": {},
     "output_type": "execute_result"
    }
   ],
   "source": [
    "# s2_int = int(s2)\n",
    "\n",
    "# # ValueError: invalid literal for int() with base 10: '4.7'\n",
    "\n",
    "s2_float = float(s2)\n",
    "type(s2_float)"
   ]
  },
  {
   "cell_type": "markdown",
   "id": "dbbc8e82-aeff-4c95-b769-a07790280274",
   "metadata": {},
   "source": [
    "## 2"
   ]
  },
  {
   "cell_type": "code",
   "execution_count": 128,
   "id": "44378a7f-b096-4403-9bb2-e1d6e4357df3",
   "metadata": {},
   "outputs": [],
   "source": [
    "s1_float = float(s1)\n",
    "s2_float = float(s2)"
   ]
  },
  {
   "cell_type": "code",
   "execution_count": 130,
   "id": "6422dcdd-f380-4b35-be05-5a3a0f753ebe",
   "metadata": {},
   "outputs": [
    {
     "data": {
      "text/plain": [
       "float"
      ]
     },
     "execution_count": 130,
     "metadata": {},
     "output_type": "execute_result"
    }
   ],
   "source": [
    "type(s1_float)"
   ]
  },
  {
   "cell_type": "code",
   "execution_count": 132,
   "id": "9afa36ef-f9f1-4983-85e9-379c25dba0e8",
   "metadata": {},
   "outputs": [
    {
     "data": {
      "text/plain": [
       "float"
      ]
     },
     "execution_count": 132,
     "metadata": {},
     "output_type": "execute_result"
    }
   ],
   "source": [
    "type(s2_float)"
   ]
  },
  {
   "cell_type": "code",
   "execution_count": null,
   "id": "1273c42d-3be4-4d4e-aeaf-d65c19aa72a3",
   "metadata": {},
   "outputs": [],
   "source": []
  },
  {
   "cell_type": "code",
   "execution_count": null,
   "id": "6930c766-6d53-4e73-9522-1e173866313f",
   "metadata": {},
   "outputs": [],
   "source": []
  },
  {
   "cell_type": "code",
   "execution_count": 147,
   "id": "a8499a42-f4b3-4a09-a3b0-0b105635a1e7",
   "metadata": {},
   "outputs": [
    {
     "name": "stdout",
     "output_type": "stream",
     "text": [
      "4\n"
     ]
    }
   ],
   "source": [
    "print(int(float(s2)))"
   ]
  },
  {
   "cell_type": "markdown",
   "id": "97f75a03-7387-4c17-a187-381c686b2c21",
   "metadata": {},
   "source": [
    "## 3"
   ]
  },
  {
   "cell_type": "code",
   "execution_count": 137,
   "id": "7404d3ea-529b-4e07-b929-038d369e3c6b",
   "metadata": {},
   "outputs": [
    {
     "data": {
      "text/plain": [
       "str"
      ]
     },
     "execution_count": 137,
     "metadata": {},
     "output_type": "execute_result"
    }
   ],
   "source": [
    "n1_string = str(n1)\n",
    "type(n1_string)"
   ]
  },
  {
   "cell_type": "code",
   "execution_count": 141,
   "id": "f985acf5-59c4-4876-819f-3f89c20383e7",
   "metadata": {},
   "outputs": [
    {
     "data": {
      "text/plain": [
       "str"
      ]
     },
     "execution_count": 141,
     "metadata": {},
     "output_type": "execute_result"
    }
   ],
   "source": [
    "n2_string = str(n2)\n",
    "type(n2_string)"
   ]
  },
  {
   "cell_type": "code",
   "execution_count": 143,
   "id": "20fc3351-d260-4b6d-9448-b0d38c6faf7e",
   "metadata": {},
   "outputs": [
    {
     "data": {
      "text/plain": [
       "'5'"
      ]
     },
     "execution_count": 143,
     "metadata": {},
     "output_type": "execute_result"
    }
   ],
   "source": [
    "n1_string "
   ]
  },
  {
   "cell_type": "code",
   "execution_count": 145,
   "id": "dce1c314-9632-4353-863e-3b50f5ed577a",
   "metadata": {},
   "outputs": [
    {
     "data": {
      "text/plain": [
       "'5.8'"
      ]
     },
     "execution_count": 145,
     "metadata": {},
     "output_type": "execute_result"
    }
   ],
   "source": [
    "n2_string"
   ]
  },
  {
   "cell_type": "code",
   "execution_count": 149,
   "id": "39d267f9-425b-4973-a923-6cf55d9b16e3",
   "metadata": {},
   "outputs": [
    {
     "data": {
      "text/plain": [
       "'5.85.8'"
      ]
     },
     "execution_count": 149,
     "metadata": {},
     "output_type": "execute_result"
    }
   ],
   "source": [
    "n2_string*2"
   ]
  }
 ],
 "metadata": {
  "kernelspec": {
   "display_name": "Python [conda env:base] *",
   "language": "python",
   "name": "conda-base-py"
  },
  "language_info": {
   "codemirror_mode": {
    "name": "ipython",
    "version": 3
   },
   "file_extension": ".py",
   "mimetype": "text/x-python",
   "name": "python",
   "nbconvert_exporter": "python",
   "pygments_lexer": "ipython3",
   "version": "3.12.7"
  }
 },
 "nbformat": 4,
 "nbformat_minor": 5
}
