{
 "cells": [
  {
   "cell_type": "markdown",
   "id": "c6755c38-4b44-4388-ab17-865de098206d",
   "metadata": {},
   "source": [
    "# Load necessary libraries"
   ]
  },
  {
   "cell_type": "code",
   "execution_count": 220,
   "id": "4e083da4-588b-420a-b224-ae5e71347b6a",
   "metadata": {},
   "outputs": [],
   "source": [
    "import sympy as sym\n",
    "import math\n",
    "from IPython.display import display, Math"
   ]
  },
  {
   "cell_type": "markdown",
   "id": "17d284c0-64c4-41e5-98bb-90eff48f794d",
   "metadata": {},
   "source": [
    "# Lecture"
   ]
  },
  {
   "cell_type": "code",
   "execution_count": 88,
   "id": "7072ff81-2005-4496-a613-cdaf15e57f25",
   "metadata": {},
   "outputs": [
    {
     "data": {
      "text/plain": [
       "[5/2]"
      ]
     },
     "execution_count": 88,
     "metadata": {},
     "output_type": "execute_result"
    }
   ],
   "source": [
    "x = sym.symbols(\"x\")\n",
    "\n",
    "expr = 2*x + 4 - 9\n",
    "\n",
    "sym.solve(expr)"
   ]
  },
  {
   "cell_type": "code",
   "execution_count": 38,
   "id": "7929fb76-5edf-4b28-a82f-dea5b12118c1",
   "metadata": {},
   "outputs": [],
   "source": [
    "2*x == 9 - 4\n",
    "x = 5/2"
   ]
  },
  {
   "cell_type": "code",
   "execution_count": 74,
   "id": "8cfe17e2-28ae-46e4-a3da-c889c5dffe09",
   "metadata": {},
   "outputs": [
    {
     "data": {
      "text/latex": [
       "$\\displaystyle \\text {The solution to } 2 x - 5 \\text{ is x = } 2.5$"
      ],
      "text/plain": [
       "<IPython.core.display.Math object>"
      ]
     },
     "metadata": {},
     "output_type": "display_data"
    }
   ],
   "source": [
    "ans = sym.solve(expr)\n",
    "ans\n",
    "\n",
    "display(Math(\"\\\\text {The solution to } %s \\\\text{ is x = } %g\" %(sym.latex(expr), sym.solve(expr)[0] )))"
   ]
  },
  {
   "cell_type": "code",
   "execution_count": 76,
   "id": "d1c5cc55-b8cd-4ab7-bd6e-c836af3116f2",
   "metadata": {},
   "outputs": [
    {
     "data": {
      "text/latex": [
       "$\\displaystyle \\frac{5}{2}$"
      ],
      "text/plain": [
       "5/2"
      ]
     },
     "execution_count": 76,
     "metadata": {},
     "output_type": "execute_result"
    }
   ],
   "source": [
    "sym.solve(expr)[0]"
   ]
  },
  {
   "cell_type": "code",
   "execution_count": 98,
   "id": "66dfaf78-52f0-4b30-b428-2e6c77b3488b",
   "metadata": {},
   "outputs": [
    {
     "name": "stdout",
     "output_type": "stream",
     "text": [
      "[-2, 2]\n"
     ]
    },
    {
     "data": {
      "text/plain": [
       "2"
      ]
     },
     "execution_count": 98,
     "metadata": {},
     "output_type": "execute_result"
    }
   ],
   "source": [
    "sol = sym.solve(x**2 - 4)\n",
    "\n",
    "print(sol)\n",
    "type(sol)\n",
    "len(sol)"
   ]
  },
  {
   "cell_type": "code",
   "execution_count": 108,
   "id": "8126ca97-738c-4b4e-b96d-4833e8a04ed1",
   "metadata": {},
   "outputs": [
    {
     "name": "stdout",
     "output_type": "stream",
     "text": [
      "-2\n"
     ]
    },
    {
     "data": {
      "text/latex": [
       "$\\displaystyle 2$"
      ],
      "text/plain": [
       "2"
      ]
     },
     "execution_count": 108,
     "metadata": {},
     "output_type": "execute_result"
    }
   ],
   "source": [
    "print(sol[0])\n",
    "sol[1]"
   ]
  },
  {
   "cell_type": "code",
   "execution_count": 110,
   "id": "1a3059ed-8c67-4b89-a504-7940806e5462",
   "metadata": {},
   "outputs": [
    {
     "data": {
      "text/plain": [
       "[-2, 2]"
      ]
     },
     "execution_count": 110,
     "metadata": {},
     "output_type": "execute_result"
    }
   ],
   "source": [
    "expr = x**2 - 4\n",
    "sol = sym.solve(expr)\n",
    "sol"
   ]
  },
  {
   "cell_type": "code",
   "execution_count": 120,
   "id": "c249d97a-643d-4a21-8874-3712ee42ed7b",
   "metadata": {},
   "outputs": [
    {
     "name": "stdout",
     "output_type": "stream",
     "text": [
      "Solution # 1 is -2\n",
      "Solution # 2 is 2\n"
     ]
    }
   ],
   "source": [
    "for i in range(0, len(sol)):\n",
    "    print(\"Solution # \" + str(i + 1) + \" is \" + str(sol[i]))"
   ]
  },
  {
   "cell_type": "code",
   "execution_count": 134,
   "id": "5a36c449-18c7-4a11-9c0e-af5e74aeac6f",
   "metadata": {},
   "outputs": [
    {
     "name": "stdout",
     "output_type": "stream",
     "text": [
      "[(x + 20)/(4*x)]\n"
     ]
    },
    {
     "data": {
      "text/plain": [
       "[20/(4*y - 1)]"
      ]
     },
     "execution_count": 134,
     "metadata": {},
     "output_type": "execute_result"
    }
   ],
   "source": [
    "x, y = sym.symbols(\"x, y\")\n",
    "\n",
    "\n",
    "expr = x/4 - x*y + 5\n",
    "expr\n",
    "\n",
    "print(sym.solve(expr, y))\n",
    "sym.solve(expr, x)"
   ]
  },
  {
   "cell_type": "markdown",
   "id": "d4cfa487-a58e-47cf-9c7a-b17a7df15b6c",
   "metadata": {},
   "source": [
    "# Exercise - my solution"
   ]
  },
  {
   "cell_type": "markdown",
   "id": "8dc594f4-dd16-4ece-9e98-d6d085565189",
   "metadata": {},
   "source": [
    "## 1"
   ]
  },
  {
   "cell_type": "code",
   "execution_count": 247,
   "id": "469ec615-1ffb-4d47-bda2-7fb8b2e5b90a",
   "metadata": {},
   "outputs": [
    {
     "name": "stdout",
     "output_type": "stream",
     "text": [
      "-2*q + 2 + 3/q\n"
     ]
    },
    {
     "data": {
      "text/plain": [
       "[1/2 - sqrt(7)/2, 1/2 + sqrt(7)/2]"
      ]
     },
     "execution_count": 247,
     "metadata": {},
     "output_type": "execute_result"
    }
   ],
   "source": [
    "q = sym.symbols(\"q\")\n",
    "\n",
    "expr = 3*q + 4/q + 3 - 5*q - 1/q - 1\n",
    "expr = expr.simplify()\n",
    "\n",
    "print(expr)\n",
    "sym.solve(expr, q)"
   ]
  },
  {
   "cell_type": "markdown",
   "id": "2a97aa8c-fb87-4009-8da9-2ad013284929",
   "metadata": {},
   "source": [
    "## 2"
   ]
  },
  {
   "cell_type": "code",
   "execution_count": 214,
   "id": "4323747d-dc60-400f-99c8-2108f76b5e74",
   "metadata": {},
   "outputs": [
    {
     "name": "stdout",
     "output_type": "stream",
     "text": [
      "3*q**2 + 2*q - 5/q - 4/q**3\n"
     ]
    },
    {
     "data": {
      "text/plain": [
       "[CRootOf(3*x**5 + 2*x**4 - 5*x**2 - 4, 0),\n",
       " CRootOf(3*x**5 + 2*x**4 - 5*x**2 - 4, 1),\n",
       " CRootOf(3*x**5 + 2*x**4 - 5*x**2 - 4, 2),\n",
       " CRootOf(3*x**5 + 2*x**4 - 5*x**2 - 4, 3),\n",
       " CRootOf(3*x**5 + 2*x**4 - 5*x**2 - 4, 4)]"
      ]
     },
     "execution_count": 214,
     "metadata": {},
     "output_type": "execute_result"
    }
   ],
   "source": [
    "expr = 2*q + 3*q**2 - 5/q - 4/q**3\n",
    "expr = expr.simplify()\n",
    "\n",
    "print(expr)\n",
    "sym.solve(expr)"
   ]
  },
  {
   "cell_type": "code",
   "execution_count": 212,
   "id": "9935946f-9ba7-4f8b-bc7c-4140c1f9d86a",
   "metadata": {},
   "outputs": [
    {
     "name": "stdout",
     "output_type": "stream",
     "text": [
      "(3*q**5 + 2*q**4 - 5*q**2 - 4)/q**3\n"
     ]
    },
    {
     "data": {
      "text/plain": [
       "[CRootOf(3*x**5 + 2*x**4 - 5*x**2 - 4, 0),\n",
       " CRootOf(3*x**5 + 2*x**4 - 5*x**2 - 4, 1),\n",
       " CRootOf(3*x**5 + 2*x**4 - 5*x**2 - 4, 2),\n",
       " CRootOf(3*x**5 + 2*x**4 - 5*x**2 - 4, 3),\n",
       " CRootOf(3*x**5 + 2*x**4 - 5*x**2 - 4, 4)]"
      ]
     },
     "execution_count": 212,
     "metadata": {},
     "output_type": "execute_result"
    }
   ],
   "source": [
    "expr = 2*q + 3*q**2 - 5/q - 4/q**3\n",
    "expr = expr.cancel()\n",
    "\n",
    "print(expr)\n",
    "sym.solve(expr)"
   ]
  },
  {
   "cell_type": "markdown",
   "id": "a7f49571-23ff-4424-8414-3ed5544c4d51",
   "metadata": {},
   "source": [
    "# 3"
   ]
  },
  {
   "cell_type": "code",
   "execution_count": 249,
   "id": "6c9e443c-a714-4758-8b0f-4ff0856265b2",
   "metadata": {},
   "outputs": [
    {
     "name": "stdout",
     "output_type": "stream",
     "text": [
      "5.90089044769421*q + 1.73205080756888\n"
     ]
    },
    {
     "data": {
      "text/plain": [
       "[-0.293523633919637]"
      ]
     },
     "execution_count": 249,
     "metadata": {},
     "output_type": "execute_result"
    }
   ],
   "source": [
    "expr = math.sqrt(3) + math.sqrt(15)*q/math.sqrt(2) + math.sqrt(10)*q\n",
    "print(expr.simplify())\n",
    "sym.solve(expr)"
   ]
  },
  {
   "cell_type": "code",
   "execution_count": 226,
   "id": "f5c4a98e-ecff-4055-aa5e-f27f5cf3ef16",
   "metadata": {},
   "outputs": [
    {
     "data": {
      "text/plain": [
       "1.224744871391589"
      ]
     },
     "execution_count": 226,
     "metadata": {},
     "output_type": "execute_result"
    }
   ],
   "source": [
    "math.sqrt(6) / math.sqrt(4)"
   ]
  },
  {
   "cell_type": "markdown",
   "id": "b5775704-85ed-4c1d-9eff-1bb523144e30",
   "metadata": {},
   "source": [
    "# Exercise - course solution"
   ]
  },
  {
   "cell_type": "markdown",
   "id": "e69eda6a-85dd-400b-a499-1c926ad2a297",
   "metadata": {},
   "source": [
    "# 1"
   ]
  },
  {
   "cell_type": "code",
   "execution_count": 274,
   "id": "8ed590df-9075-416e-ba28-36096aee3731",
   "metadata": {},
   "outputs": [
    {
     "data": {
      "text/latex": [
       "$\\displaystyle - 2 q + 2 + \\frac{3}{q}$"
      ],
      "text/plain": [
       "<IPython.core.display.Math object>"
      ]
     },
     "metadata": {},
     "output_type": "display_data"
    },
    {
     "data": {
      "text/latex": [
       "$\\displaystyle q=\\left[ \\frac{1}{2} - \\frac{\\sqrt{7}}{2}, \\  \\frac{1}{2} + \\frac{\\sqrt{7}}{2}\\right]$"
      ],
      "text/plain": [
       "<IPython.core.display.Math object>"
      ]
     },
     "metadata": {},
     "output_type": "display_data"
    }
   ],
   "source": [
    "q = sym.symbols(\"q\")\n",
    "\n",
    "eq = 3*q + 4/q + 3 - 5*q - 1/q - 1\n",
    "\n",
    "display(Math(sym.latex(eq.simplify())))\n",
    "display(Math(\"q=\" + sym.latex(sym.solve(eq, q))))\n"
   ]
  },
  {
   "cell_type": "markdown",
   "id": "74b0a0a2-d067-482e-b03b-1c0f74984216",
   "metadata": {},
   "source": [
    "# 2"
   ]
  },
  {
   "cell_type": "code",
   "execution_count": 285,
   "id": "0dd56b43-333f-480a-b6f9-f63c0e3531a8",
   "metadata": {},
   "outputs": [
    {
     "data": {
      "text/latex": [
       "$\\displaystyle 3 q^{2} + 2 q - \\frac{5}{q} - \\frac{4}{q^{3}}$"
      ],
      "text/plain": [
       "<IPython.core.display.Math object>"
      ]
     },
     "metadata": {},
     "output_type": "display_data"
    }
   ],
   "source": [
    "eq = 2*q + 3*q**2 - 5/q - 4/q**3\n",
    "\n",
    "display(Math(sym.latex(eq)))"
   ]
  },
  {
   "cell_type": "code",
   "execution_count": 289,
   "id": "8339932b-57c2-4e9a-86ed-e8ef9def7e59",
   "metadata": {},
   "outputs": [
    {
     "data": {
      "text/latex": [
       "$\\displaystyle 3 q^{2} + 2 q - \\frac{5}{q} - \\frac{4}{q^{3}}$"
      ],
      "text/plain": [
       "<IPython.core.display.Math object>"
      ]
     },
     "metadata": {},
     "output_type": "display_data"
    }
   ],
   "source": [
    "display(Math(sym.latex(sym.simplify(eq))))"
   ]
  },
  {
   "cell_type": "code",
   "execution_count": 291,
   "id": "f7900d3d-46a0-419b-a4d6-875dddfa1f42",
   "metadata": {},
   "outputs": [
    {
     "data": {
      "text/latex": [
       "$\\displaystyle \\frac{3 q^{5} + 2 q^{4} - 5 q^{2} - 4}{q^{3}}$"
      ],
      "text/plain": [
       "<IPython.core.display.Math object>"
      ]
     },
     "metadata": {},
     "output_type": "display_data"
    }
   ],
   "source": [
    "display(Math(sym.latex(sym.cancel(eq))))"
   ]
  },
  {
   "cell_type": "markdown",
   "id": "e736d090-feb2-4d8d-b559-8f863fc963e0",
   "metadata": {},
   "source": [
    "# 3"
   ]
  },
  {
   "cell_type": "code",
   "execution_count": 298,
   "id": "ab4d1866-a7b6-4420-9a4a-9aba317b088b",
   "metadata": {},
   "outputs": [],
   "source": [
    "expr = (sym.sqrt(3) + sym.sqrt(15)*q) / (sym.sqrt(2) + sym.sqrt(10) * q)"
   ]
  },
  {
   "cell_type": "code",
   "execution_count": 314,
   "id": "53696f47-c1a3-4b2d-9897-a4df64b46b9b",
   "metadata": {},
   "outputs": [
    {
     "data": {
      "text/latex": [
       "$\\displaystyle \\frac{\\sqrt{15} q + \\sqrt{3}}{\\sqrt{10} q + \\sqrt{2}}$"
      ],
      "text/plain": [
       "<IPython.core.display.Math object>"
      ]
     },
     "metadata": {},
     "output_type": "display_data"
    },
    {
     "data": {
      "text/latex": [
       "$\\displaystyle \\frac{\\sqrt{6}}{2}$"
      ],
      "text/plain": [
       "<IPython.core.display.Math object>"
      ]
     },
     "metadata": {},
     "output_type": "display_data"
    }
   ],
   "source": [
    "display(Math(sym.latex(expr)))\n",
    "display(Math(sym.latex(sym.simplify(expr))))"
   ]
  },
  {
   "cell_type": "code",
   "execution_count": 304,
   "id": "4bb5be98-4062-45c5-be13-a43e46d4bef6",
   "metadata": {},
   "outputs": [
    {
     "data": {
      "text/latex": [
       "$\\displaystyle 1.22474487139159$"
      ],
      "text/plain": [
       "1.22474487139159"
      ]
     },
     "execution_count": 304,
     "metadata": {},
     "output_type": "execute_result"
    }
   ],
   "source": [
    "expr.subs(q, 10).evalf()"
   ]
  },
  {
   "cell_type": "code",
   "execution_count": 306,
   "id": "2342c8e1-86f0-4f7b-b108-f4dff88d19a3",
   "metadata": {},
   "outputs": [
    {
     "data": {
      "text/latex": [
       "$\\displaystyle 1.22474487139159$"
      ],
      "text/plain": [
       "1.22474487139159"
      ]
     },
     "execution_count": 306,
     "metadata": {},
     "output_type": "execute_result"
    }
   ],
   "source": [
    "expr.subs(q, 3).evalf()"
   ]
  },
  {
   "cell_type": "code",
   "execution_count": 308,
   "id": "e24fc261-68f0-4e39-bc2e-282e6cfd1c49",
   "metadata": {},
   "outputs": [
    {
     "data": {
      "text/latex": [
       "$\\displaystyle 1.22474487139159$"
      ],
      "text/plain": [
       "1.22474487139159"
      ]
     },
     "execution_count": 308,
     "metadata": {},
     "output_type": "execute_result"
    }
   ],
   "source": [
    "expr.subs(q, 5454545).evalf()"
   ]
  },
  {
   "cell_type": "code",
   "execution_count": null,
   "id": "bd159eb2-6271-4954-aa69-863f135073d2",
   "metadata": {},
   "outputs": [],
   "source": []
  }
 ],
 "metadata": {
  "kernelspec": {
   "display_name": "Python [conda env:base] *",
   "language": "python",
   "name": "conda-base-py"
  },
  "language_info": {
   "codemirror_mode": {
    "name": "ipython",
    "version": 3
   },
   "file_extension": ".py",
   "mimetype": "text/x-python",
   "name": "python",
   "nbconvert_exporter": "python",
   "pygments_lexer": "ipython3",
   "version": "3.12.7"
  }
 },
 "nbformat": 4,
 "nbformat_minor": 5
}
