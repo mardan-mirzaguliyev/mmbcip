{
 "cells": [
  {
   "cell_type": "markdown",
   "id": "a208621d-4068-412f-a46e-89e666f92868",
   "metadata": {},
   "source": [
    "# Load necessary libraries"
   ]
  },
  {
   "cell_type": "code",
   "execution_count": 153,
   "id": "6c30406d-f8ea-426d-850d-2ddcec5b3dd9",
   "metadata": {},
   "outputs": [],
   "source": [
    "from IPython.display import display, Math"
   ]
  },
  {
   "cell_type": "markdown",
   "id": "174a68c2-6159-4677-8b92-ebd3362d4175",
   "metadata": {},
   "source": [
    "# Lecture"
   ]
  },
  {
   "cell_type": "code",
   "execution_count": 45,
   "id": "ef48a73e-65e8-4608-aa77-07d4b599c37e",
   "metadata": {},
   "outputs": [
    {
     "name": "stdout",
     "output_type": "stream",
     "text": [
      "True\n"
     ]
    }
   ],
   "source": [
    "if 4 + 2 == 6:\n",
    "    print(True)"
   ]
  },
  {
   "cell_type": "code",
   "execution_count": 47,
   "id": "d15b03c2-0d5c-4bb9-ad07-c25a4e03f4b6",
   "metadata": {},
   "outputs": [
    {
     "name": "stdout",
     "output_type": "stream",
     "text": [
      "6\n"
     ]
    }
   ],
   "source": [
    "if 4 + 2 == 5:\n",
    "    print(True)\n",
    "print(4 + 2)"
   ]
  },
  {
   "cell_type": "code",
   "execution_count": 51,
   "id": "a8c7d023-b128-481b-8084-10d2e5ffafca",
   "metadata": {},
   "outputs": [
    {
     "name": "stdout",
     "output_type": "stream",
     "text": [
      "6\n"
     ]
    }
   ],
   "source": [
    "if 4 + 2 == 5:\n",
    "    print(True)\n",
    "else:\n",
    "    print(4 + 2)"
   ]
  },
  {
   "cell_type": "code",
   "execution_count": 69,
   "id": "a3e3ee5c-fc32-4e93-8a1a-012957cb3ca3",
   "metadata": {},
   "outputs": [
    {
     "name": "stdout",
     "output_type": "stream",
     "text": [
      "4 is equal to 4\n"
     ]
    }
   ],
   "source": [
    "x1 = 4\n",
    "x2 = 4\n",
    "\n",
    "if x1 > x2:\n",
    "    print(\"%g is greater than %g\" %(x1, x2))\n",
    "elif x1 < x2:\n",
    "    print(\"%g is greater than %g\" %(x2, x1))\n",
    "else:\n",
    "    print(\"%g is equal to %g\" %(x1, x2))\n",
    "    "
   ]
  },
  {
   "cell_type": "markdown",
   "id": "7c897b5f-17ec-472b-b0a8-1a18caae77f4",
   "metadata": {},
   "source": [
    "# Exercise - my solution"
   ]
  },
  {
   "cell_type": "code",
   "execution_count": 165,
   "id": "682337b5-162f-48b2-b88e-def50fa4e89a",
   "metadata": {},
   "outputs": [
    {
     "data": {
      "text/latex": [
       "$\\displaystyle 1^{-1} = 1$"
      ],
      "text/plain": [
       "<IPython.core.display.Math object>"
      ]
     },
     "metadata": {},
     "output_type": "display_data"
    },
    {
     "data": {
      "text/latex": [
       "$\\displaystyle 1^{-2} = 1$"
      ],
      "text/plain": [
       "<IPython.core.display.Math object>"
      ]
     },
     "metadata": {},
     "output_type": "display_data"
    },
    {
     "data": {
      "text/latex": [
       "$\\displaystyle 1^{-3} = 1$"
      ],
      "text/plain": [
       "<IPython.core.display.Math object>"
      ]
     },
     "metadata": {},
     "output_type": "display_data"
    },
    {
     "data": {
      "text/latex": [
       "$\\displaystyle 1^{-4} = 1$"
      ],
      "text/plain": [
       "<IPython.core.display.Math object>"
      ]
     },
     "metadata": {},
     "output_type": "display_data"
    },
    {
     "data": {
      "text/latex": [
       "$\\displaystyle 2^{-1} = 0.5$"
      ],
      "text/plain": [
       "<IPython.core.display.Math object>"
      ]
     },
     "metadata": {},
     "output_type": "display_data"
    },
    {
     "data": {
      "text/latex": [
       "$\\displaystyle 2^{-2} = 0.25$"
      ],
      "text/plain": [
       "<IPython.core.display.Math object>"
      ]
     },
     "metadata": {},
     "output_type": "display_data"
    },
    {
     "data": {
      "text/latex": [
       "$\\displaystyle 2^{-3} = 0.125$"
      ],
      "text/plain": [
       "<IPython.core.display.Math object>"
      ]
     },
     "metadata": {},
     "output_type": "display_data"
    },
    {
     "data": {
      "text/latex": [
       "$\\displaystyle 2^{-4} = 0.0625$"
      ],
      "text/plain": [
       "<IPython.core.display.Math object>"
      ]
     },
     "metadata": {},
     "output_type": "display_data"
    },
    {
     "data": {
      "text/latex": [
       "$\\displaystyle 3^{-1} = 0.333333$"
      ],
      "text/plain": [
       "<IPython.core.display.Math object>"
      ]
     },
     "metadata": {},
     "output_type": "display_data"
    },
    {
     "data": {
      "text/latex": [
       "$\\displaystyle 3^{-2} = 0.111111$"
      ],
      "text/plain": [
       "<IPython.core.display.Math object>"
      ]
     },
     "metadata": {},
     "output_type": "display_data"
    },
    {
     "data": {
      "text/latex": [
       "$\\displaystyle 3^{-3} = 0.037037$"
      ],
      "text/plain": [
       "<IPython.core.display.Math object>"
      ]
     },
     "metadata": {},
     "output_type": "display_data"
    },
    {
     "data": {
      "text/latex": [
       "$\\displaystyle 3^{-4} = 0.0123457$"
      ],
      "text/plain": [
       "<IPython.core.display.Math object>"
      ]
     },
     "metadata": {},
     "output_type": "display_data"
    }
   ],
   "source": [
    "for i in range(0, 4):\n",
    "    for j in range(0, 5):\n",
    "        if i > 0 and j > 0:\n",
    "            display(Math(\"%g^{-%g} = %g\" %(i, j, i**-j)))"
   ]
  }
 ],
 "metadata": {
  "kernelspec": {
   "display_name": "Python [conda env:base] *",
   "language": "python",
   "name": "conda-base-py"
  },
  "language_info": {
   "codemirror_mode": {
    "name": "ipython",
    "version": 3
   },
   "file_extension": ".py",
   "mimetype": "text/x-python",
   "name": "python",
   "nbconvert_exporter": "python",
   "pygments_lexer": "ipython3",
   "version": "3.12.7"
  }
 },
 "nbformat": 4,
 "nbformat_minor": 5
}
