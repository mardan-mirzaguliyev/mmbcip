{
 "cells": [
  {
   "cell_type": "markdown",
   "id": "8e45f413-b232-4f38-b620-add2361c3421",
   "metadata": {},
   "source": [
    "# Lecture 1"
   ]
  },
  {
   "cell_type": "code",
   "execution_count": 57,
   "id": "49aa44c0-efe7-4afa-a370-afdd2bdc5471",
   "metadata": {},
   "outputs": [],
   "source": [
    "def myfunction():\n",
    "    print(\"Hello, World!\")"
   ]
  },
  {
   "cell_type": "code",
   "execution_count": 58,
   "id": "2959f9cb-8344-4325-8c3a-768d37718c04",
   "metadata": {},
   "outputs": [
    {
     "name": "stdout",
     "output_type": "stream",
     "text": [
      "Hello, World!\n"
     ]
    }
   ],
   "source": [
    "myfunction()"
   ]
  },
  {
   "cell_type": "code",
   "execution_count": 59,
   "id": "b3d3a760-0d40-4985-9eac-857a28655e9c",
   "metadata": {},
   "outputs": [
    {
     "data": {
      "text/plain": [
       "3"
      ]
     },
     "execution_count": 59,
     "metadata": {},
     "output_type": "execute_result"
    }
   ],
   "source": [
    "int(3.2)"
   ]
  },
  {
   "cell_type": "code",
   "execution_count": 60,
   "id": "52a286a0-da1e-4497-9058-36fd667e908a",
   "metadata": {},
   "outputs": [],
   "source": [
    "def print_hello_name(name):\n",
    "    print(\"Hello, %s.\" %name)"
   ]
  },
  {
   "cell_type": "code",
   "execution_count": 61,
   "id": "09c8a94c-0783-4d32-b99c-f907a699438e",
   "metadata": {},
   "outputs": [
    {
     "name": "stdout",
     "output_type": "stream",
     "text": [
      "Hello, John.\n"
     ]
    }
   ],
   "source": [
    "print_hello_name(\"John\")"
   ]
  },
  {
   "cell_type": "code",
   "execution_count": 62,
   "id": "a4b5d507-48a1-4e3d-ad36-69b3c598f235",
   "metadata": {},
   "outputs": [],
   "source": [
    "def compute_remainder(x, y):\n",
    "    divis = int(x / y)\n",
    "    remainder = x % y\n",
    "    \n",
    "    print(\"%g goes into %g, %g times with a remainder of %g.\" %(y, x, divis, remainder))"
   ]
  },
  {
   "cell_type": "code",
   "execution_count": 63,
   "id": "a459ec25-d39c-47e7-942a-49e4bbb5934e",
   "metadata": {},
   "outputs": [
    {
     "name": "stdout",
     "output_type": "stream",
     "text": [
      "6 goes into 100, 16 times with a remainder of 4.\n"
     ]
    }
   ],
   "source": [
    "compute_remainder(100, 6)"
   ]
  },
  {
   "cell_type": "code",
   "execution_count": 64,
   "id": "9481d558-5e69-4286-98b3-6bad507ef61d",
   "metadata": {},
   "outputs": [],
   "source": [
    "def divide_with_input():\n",
    "    \n",
    "    x = int(input(\"Enter a divident: \"))\n",
    "    y = int(input(\"Enter a divisor: \"))\n",
    "\n",
    "    quotient = int(x / y)\n",
    "    remainder = x % y\n",
    "    \n",
    "    print(\"%g goes into %g, %g times with a remainder of %g\" %(y, x, quotient, remainder))"
   ]
  },
  {
   "cell_type": "code",
   "execution_count": 65,
   "id": "3ddae20f-397c-465c-953a-5bc93ca1587c",
   "metadata": {},
   "outputs": [
    {
     "name": "stdin",
     "output_type": "stream",
     "text": [
      "Enter a divident:  4545\n",
      "Enter a divisor:  4444\n"
     ]
    },
    {
     "name": "stdout",
     "output_type": "stream",
     "text": [
      "4444 goes into 4545, 1 times with a remainder of 101\n"
     ]
    }
   ],
   "source": [
    "divide_with_input()"
   ]
  },
  {
   "cell_type": "markdown",
   "id": "343ca6f9-22a9-4f62-a9d9-8dd45e1bb0d9",
   "metadata": {},
   "source": [
    "# Lecture 2"
   ]
  },
  {
   "cell_type": "markdown",
   "id": "55d585d0-9ed5-4c66-b68b-82d86316c579",
   "metadata": {},
   "source": [
    "##  Exercise - my solution"
   ]
  },
  {
   "cell_type": "markdown",
   "id": "f6d884b2-fb56-4d6b-8bd7-b69af7c93540",
   "metadata": {},
   "source": [
    "### First function"
   ]
  },
  {
   "cell_type": "code",
   "execution_count": 163,
   "id": "37a94bb9-c94b-41a6-8ec3-f292c733158d",
   "metadata": {},
   "outputs": [],
   "source": [
    "def compute_different_operations():\n",
    "    \n",
    "    x = int(input(\"Input X: \"))\n",
    "    y = int(input(\"Input Y: \"))\n",
    "\n",
    "    operation_selected = int(input(\"Press '1' to compute 2**4 or '2' to compute 2/4\"))\n",
    "\n",
    "    \n",
    "    if operation_selected == 1:\n",
    "        operation = x**y\n",
    "        display(Math(\"%g^%g = %g\" %(x, y, x**y)))\n",
    "    elif operation_selected == 2:\n",
    "        operation = x/y\n",
    "        display(Math(\"\\\\frac{%g}{%g} = {%g}\" %(x, y, x/y)))"
   ]
  },
  {
   "cell_type": "code",
   "execution_count": 167,
   "id": "db3ea14a-d833-4590-b85d-ffec7e54e188",
   "metadata": {},
   "outputs": [
    {
     "name": "stdin",
     "output_type": "stream",
     "text": [
      "Input X:  2\n",
      "Input Y:  4\n",
      "Press '1' to compute 2**4 or '2' to compute 2/4 2\n"
     ]
    },
    {
     "data": {
      "text/latex": [
       "$\\displaystyle \\frac{2}{4} = {0.5}$"
      ],
      "text/plain": [
       "<IPython.core.display.Math object>"
      ]
     },
     "metadata": {},
     "output_type": "display_data"
    }
   ],
   "source": [
    "compute_different_operations()"
   ]
  },
  {
   "cell_type": "markdown",
   "id": "9b99d011-b7cb-4e3b-b5c4-d31e8da7d711",
   "metadata": {},
   "source": [
    "### Function 2"
   ]
  },
  {
   "cell_type": "code",
   "execution_count": null,
   "id": "31ad68bf-944f-4288-b9dc-63e476ce6813",
   "metadata": {},
   "outputs": [],
   "source": [
    "def compute_different_operations():\n",
    "    \n",
    "    x = int(input(\"Input X: \"))\n",
    "    y = int(input(\"Input Y: \"))\n",
    "\n",
    "    operation_selected = int(input(\"Press '1' to compute 3**5 or '2' to compute 3/5\"))\n",
    "\n",
    "    \n",
    "    if operation_selected == 1:\n",
    "        operation = x**y\n",
    "        display(Math(\"%g^%g = %g\" %(x, y, x**y)))\n",
    "    elif operation_selected == 2:\n",
    "        operation = x/y\n",
    "        display(Math(\"\\\\frac{%g}{%g} = {%g}\" %(x, y, x/y)))"
   ]
  },
  {
   "cell_type": "code",
   "execution_count": 179,
   "id": "6107587d-8d57-4d1d-aba8-0496fbbe0058",
   "metadata": {},
   "outputs": [
    {
     "name": "stdin",
     "output_type": "stream",
     "text": [
      "Input X:  3\n",
      "Input Y:  5\n",
      "Press '1' to compute 2**4 or '2' to compute 2/4 2\n"
     ]
    },
    {
     "data": {
      "text/latex": [
       "$\\displaystyle \\frac{3}{5} = {0.6}$"
      ],
      "text/plain": [
       "<IPython.core.display.Math object>"
      ]
     },
     "metadata": {},
     "output_type": "display_data"
    }
   ],
   "source": [
    "compute_different_operations()"
   ]
  },
  {
   "cell_type": "markdown",
   "id": "89d9159e-da5d-4840-abc9-12e7f3a4425d",
   "metadata": {},
   "source": [
    "## Exercise - course solution"
   ]
  },
  {
   "cell_type": "markdown",
   "id": "93812272-9b51-4e84-b039-bc781066e0d6",
   "metadata": {},
   "source": [
    "### Function 1"
   ]
  },
  {
   "cell_type": "code",
   "execution_count": 281,
   "id": "a13d8da7-3273-4ffe-ab6b-a9a5bdf0ccea",
   "metadata": {},
   "outputs": [],
   "source": [
    "# Create the functions\n",
    "\n",
    "def powers(x, y):\n",
    "    display(Math(\"%g^{%g} = %g\" %(x, y, x**y)))\n",
    "\n",
    "def division(x, y):\n",
    "    display(Math(\"\\\\frac{%g}{%g} = %g\" %(x, y, x/y)))\n",
    "\n",
    "def main_function():\n",
    "    \n",
    "    # Get input from user\n",
    "    x = float(input(\"Input X: \"))\n",
    "    y = float(input(\"Input Y: \"))\n",
    "\n",
    "    display(Math('\\\\text{Press \"1\" to compute } %g^{%g} \\\\text{ or press \"2\" to compute} \\\\frac{%g}{%g}' %(x, y, x, y)))\n",
    "\n",
    "    switch = input(\" \")\n",
    "\n",
    "    if switch == \"1\":\n",
    "        powers(x, y)\n",
    "    elif switch == \"2\":\n",
    "        division(x, y)\n",
    "    else:\n",
    "        print(\"Invalid selection!\")\n",
    "\n"
   ]
  },
  {
   "cell_type": "code",
   "execution_count": 191,
   "id": "ff81db5b-8244-4877-a5cf-a0232c274bff",
   "metadata": {
    "scrolled": true
   },
   "outputs": [
    {
     "data": {
      "text/latex": [
       "$\\displaystyle 2^{4} = 16$"
      ],
      "text/plain": [
       "<IPython.core.display.Math object>"
      ]
     },
     "metadata": {},
     "output_type": "display_data"
    }
   ],
   "source": [
    "powers(2, 4)"
   ]
  },
  {
   "cell_type": "code",
   "execution_count": 199,
   "id": "e3bf6986-f185-4e0b-b27b-dfc4586edeeb",
   "metadata": {},
   "outputs": [
    {
     "data": {
      "text/latex": [
       "$\\displaystyle \\frac{2}{4} = 0.5$"
      ],
      "text/plain": [
       "<IPython.core.display.Math object>"
      ]
     },
     "metadata": {},
     "output_type": "display_data"
    }
   ],
   "source": [
    "division(2, 4)"
   ]
  },
  {
   "cell_type": "code",
   "execution_count": 285,
   "id": "c8687de5-13ee-49a1-b4ae-ca5bf2a5b685",
   "metadata": {},
   "outputs": [
    {
     "name": "stdin",
     "output_type": "stream",
     "text": [
      "Input X:  2.2\n",
      "Input Y:  4.1\n"
     ]
    },
    {
     "data": {
      "text/latex": [
       "$\\displaystyle \\text{Press \"1\" to compute } 2.2^{4.1} \\text{ or press \"2\" to compute} \\frac{2.2}{4.1}$"
      ],
      "text/plain": [
       "<IPython.core.display.Math object>"
      ]
     },
     "metadata": {},
     "output_type": "display_data"
    },
    {
     "name": "stdin",
     "output_type": "stream",
     "text": [
      "  1\n"
     ]
    },
    {
     "data": {
      "text/latex": [
       "$\\displaystyle 2.2^{4.1} = 25.3474$"
      ],
      "text/plain": [
       "<IPython.core.display.Math object>"
      ]
     },
     "metadata": {},
     "output_type": "display_data"
    }
   ],
   "source": [
    "main_function()"
   ]
  },
  {
   "cell_type": "markdown",
   "id": "1db654dc-83f2-4942-be97-81b63046c98a",
   "metadata": {},
   "source": [
    "# Lecture 3"
   ]
  },
  {
   "cell_type": "code",
   "execution_count": null,
   "id": "cc02b938-96d0-4f74-988e-19d1f4be686d",
   "metadata": {},
   "outputs": [],
   "source": []
  },
  {
   "cell_type": "code",
   "execution_count": null,
   "id": "83834b0f-4c31-4418-8d9a-0d24017c0c57",
   "metadata": {},
   "outputs": [],
   "source": []
  },
  {
   "cell_type": "code",
   "execution_count": null,
   "id": "da770a53-2825-43f0-abf9-cb7a6db89e04",
   "metadata": {},
   "outputs": [],
   "source": []
  },
  {
   "cell_type": "code",
   "execution_count": null,
   "id": "ab5e28c5-9e58-41d1-b774-246306038539",
   "metadata": {},
   "outputs": [],
   "source": []
  },
  {
   "cell_type": "code",
   "execution_count": null,
   "id": "32730271-2df1-4015-b829-a1bcb42d06e1",
   "metadata": {},
   "outputs": [],
   "source": []
  },
  {
   "cell_type": "code",
   "execution_count": null,
   "id": "2657a7be-a6c1-4dfd-8f12-91fd6ff56eca",
   "metadata": {},
   "outputs": [],
   "source": []
  }
 ],
 "metadata": {
  "kernelspec": {
   "display_name": "Python [conda env:base] *",
   "language": "python",
   "name": "conda-base-py"
  },
  "language_info": {
   "codemirror_mode": {
    "name": "ipython",
    "version": 3
   },
   "file_extension": ".py",
   "mimetype": "text/x-python",
   "name": "python",
   "nbconvert_exporter": "python",
   "pygments_lexer": "ipython3",
   "version": "3.12.7"
  }
 },
 "nbformat": 4,
 "nbformat_minor": 5
}
