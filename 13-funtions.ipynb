{
 "cells": [
  {
   "cell_type": "markdown",
   "id": "d01fc9c5-f53e-4ac5-bbc9-b5a1dff80cbb",
   "metadata": {},
   "source": [
    "# Load necessary libraries"
   ]
  },
  {
   "cell_type": "markdown",
   "id": "8e45f413-b232-4f38-b620-add2361c3421",
   "metadata": {},
   "source": [
    "# Lecture"
   ]
  },
  {
   "cell_type": "code",
   "execution_count": 18,
   "id": "49aa44c0-efe7-4afa-a370-afdd2bdc5471",
   "metadata": {},
   "outputs": [],
   "source": [
    "def myfunction():\n",
    "    print(\"Hello, World!\")"
   ]
  },
  {
   "cell_type": "code",
   "execution_count": 20,
   "id": "2959f9cb-8344-4325-8c3a-768d37718c04",
   "metadata": {},
   "outputs": [
    {
     "name": "stdout",
     "output_type": "stream",
     "text": [
      "Hello, World!\n"
     ]
    }
   ],
   "source": [
    "myfunction()"
   ]
  },
  {
   "cell_type": "code",
   "execution_count": 22,
   "id": "b3d3a760-0d40-4985-9eac-857a28655e9c",
   "metadata": {},
   "outputs": [
    {
     "data": {
      "text/plain": [
       "3"
      ]
     },
     "execution_count": 22,
     "metadata": {},
     "output_type": "execute_result"
    }
   ],
   "source": [
    "int(3.2)"
   ]
  },
  {
   "cell_type": "code",
   "execution_count": 30,
   "id": "52a286a0-da1e-4497-9058-36fd667e908a",
   "metadata": {},
   "outputs": [],
   "source": [
    "def print_hello_name(name):\n",
    "    print(\"Hello, %s.\" %name)"
   ]
  },
  {
   "cell_type": "code",
   "execution_count": 32,
   "id": "09c8a94c-0783-4d32-b99c-f907a699438e",
   "metadata": {},
   "outputs": [
    {
     "name": "stdout",
     "output_type": "stream",
     "text": [
      "Hello, John.\n"
     ]
    }
   ],
   "source": [
    "print_hello_name(\"John\")"
   ]
  },
  {
   "cell_type": "code",
   "execution_count": 59,
   "id": "a4b5d507-48a1-4e3d-ad36-69b3c598f235",
   "metadata": {},
   "outputs": [],
   "source": [
    "def compute_remainder(x, y):\n",
    "    divis = int(x / y)\n",
    "    remainder = x % y\n",
    "    \n",
    "    print(\"%g goes into %g, %g times with a remainder of %g.\" %(y, x, divis, remainder))"
   ]
  },
  {
   "cell_type": "code",
   "execution_count": 61,
   "id": "a459ec25-d39c-47e7-942a-49e4bbb5934e",
   "metadata": {},
   "outputs": [
    {
     "name": "stdout",
     "output_type": "stream",
     "text": [
      "6 goes into 100, 16 times with a remainder of 4.\n"
     ]
    }
   ],
   "source": [
    "compute_remainder(100, 6)"
   ]
  },
  {
   "cell_type": "code",
   "execution_count": 63,
   "id": "9481d558-5e69-4286-98b3-6bad507ef61d",
   "metadata": {},
   "outputs": [],
   "source": [
    "def divide_with_input():\n",
    "    \n",
    "    x = int(input(\"Enter a divident: \"))\n",
    "    y = int(input(\"Enter a divisor: \"))\n",
    "\n",
    "    quotient = int(x / y)\n",
    "    remainder = x % y\n",
    "    \n",
    "    print(\"%g goes into %g, %g times with a remainder of %g\" %(y, x, quotient, remainder))"
   ]
  },
  {
   "cell_type": "code",
   "execution_count": 65,
   "id": "3ddae20f-397c-465c-953a-5bc93ca1587c",
   "metadata": {},
   "outputs": [
    {
     "name": "stdin",
     "output_type": "stream",
     "text": [
      "Enter a divident:  10.4\n"
     ]
    },
    {
     "ename": "ValueError",
     "evalue": "invalid literal for int() with base 10: '10.4'",
     "output_type": "error",
     "traceback": [
      "\u001b[0;31m---------------------------------------------------------------------------\u001b[0m",
      "\u001b[0;31mValueError\u001b[0m                                Traceback (most recent call last)",
      "Cell \u001b[0;32mIn[65], line 1\u001b[0m\n\u001b[0;32m----> 1\u001b[0m divide_with_input()\n",
      "Cell \u001b[0;32mIn[63], line 3\u001b[0m, in \u001b[0;36mdivide_with_input\u001b[0;34m()\u001b[0m\n\u001b[1;32m      1\u001b[0m \u001b[38;5;28;01mdef\u001b[39;00m \u001b[38;5;21mdivide_with_input\u001b[39m():\n\u001b[0;32m----> 3\u001b[0m     x \u001b[38;5;241m=\u001b[39m \u001b[38;5;28mint\u001b[39m(\u001b[38;5;28minput\u001b[39m(\u001b[38;5;124m\"\u001b[39m\u001b[38;5;124mEnter a divident: \u001b[39m\u001b[38;5;124m\"\u001b[39m))\n\u001b[1;32m      4\u001b[0m     y \u001b[38;5;241m=\u001b[39m \u001b[38;5;28mint\u001b[39m(\u001b[38;5;28minput\u001b[39m(\u001b[38;5;124m\"\u001b[39m\u001b[38;5;124mEnter a divisor: \u001b[39m\u001b[38;5;124m\"\u001b[39m))\n\u001b[1;32m      6\u001b[0m     quotient \u001b[38;5;241m=\u001b[39m \u001b[38;5;28mint\u001b[39m(x \u001b[38;5;241m/\u001b[39m y)\n",
      "\u001b[0;31mValueError\u001b[0m: invalid literal for int() with base 10: '10.4'"
     ]
    }
   ],
   "source": [
    "divide_with_input()"
   ]
  },
  {
   "cell_type": "code",
   "execution_count": null,
   "id": "6eb33b47-efed-4ae4-8051-bb8c4ca1ab3b",
   "metadata": {},
   "outputs": [],
   "source": []
  },
  {
   "cell_type": "code",
   "execution_count": null,
   "id": "c9398993-9654-4b92-8587-572e5077d3ee",
   "metadata": {},
   "outputs": [],
   "source": []
  },
  {
   "cell_type": "code",
   "execution_count": null,
   "id": "7d78870b-f98f-4b5b-8c88-1d8080ad95af",
   "metadata": {},
   "outputs": [],
   "source": []
  },
  {
   "cell_type": "code",
   "execution_count": null,
   "id": "2b15a2c9-d5b5-44c6-9c8b-fada30ef992d",
   "metadata": {},
   "outputs": [],
   "source": []
  },
  {
   "cell_type": "code",
   "execution_count": null,
   "id": "37a94bb9-c94b-41a6-8ec3-f292c733158d",
   "metadata": {},
   "outputs": [],
   "source": []
  }
 ],
 "metadata": {
  "kernelspec": {
   "display_name": "Python [conda env:base] *",
   "language": "python",
   "name": "conda-base-py"
  },
  "language_info": {
   "codemirror_mode": {
    "name": "ipython",
    "version": 3
   },
   "file_extension": ".py",
   "mimetype": "text/x-python",
   "name": "python",
   "nbconvert_exporter": "python",
   "pygments_lexer": "ipython3",
   "version": "3.12.7"
  }
 },
 "nbformat": 4,
 "nbformat_minor": 5
}
