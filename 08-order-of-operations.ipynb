{
 "cells": [
  {
   "cell_type": "markdown",
   "id": "9bb28786-6bcf-4ecd-aa92-9f66a46e4c7a",
   "metadata": {},
   "source": [
    "# Lecture"
   ]
  },
  {
   "cell_type": "code",
   "execution_count": 7,
   "id": "6f97d009-fd7e-4d04-a8d2-1a46a58d0a4f",
   "metadata": {},
   "outputs": [
    {
     "data": {
      "text/plain": [
       "9"
      ]
     },
     "execution_count": 7,
     "metadata": {},
     "output_type": "execute_result"
    }
   ],
   "source": [
    "4 + 3 * 2 - 1"
   ]
  },
  {
   "cell_type": "code",
   "execution_count": 5,
   "id": "4ad67b9e-ce82-465e-aac8-9c1018529b6d",
   "metadata": {},
   "outputs": [
    {
     "name": "stdout",
     "output_type": "stream",
     "text": [
      "['Parentheses', 'Exponents', 'Multiplication', 'Division', 'Addition', 'Subtraction']\n"
     ]
    }
   ],
   "source": [
    "order_of_operations = [\"Parentheses\", \"Exponents\", \"Multiplication\", \"Division\", \"Addition\",\"Subtraction\"]\n",
    "print(order_of_operations)"
   ]
  },
  {
   "cell_type": "code",
   "execution_count": 11,
   "id": "f061cbd4-ac89-4367-98a6-86a5a256581f",
   "metadata": {},
   "outputs": [
    {
     "data": {
      "text/plain": [
       "13"
      ]
     },
     "execution_count": 11,
     "metadata": {},
     "output_type": "execute_result"
    }
   ],
   "source": [
    "(4 + 3) * 2 - 1"
   ]
  },
  {
   "cell_type": "code",
   "execution_count": 13,
   "id": "5a1b4033-a84e-44fa-b10b-a402afd35781",
   "metadata": {},
   "outputs": [
    {
     "data": {
      "text/plain": [
       "7"
      ]
     },
     "execution_count": 13,
     "metadata": {},
     "output_type": "execute_result"
    }
   ],
   "source": [
    "(4 + 3) * (2 - 1)"
   ]
  },
  {
   "cell_type": "markdown",
   "id": "6f1379a1-1432-42b8-9b82-84c4e240847b",
   "metadata": {},
   "source": [
    "# Exercise - My solution"
   ]
  },
  {
   "cell_type": "markdown",
   "id": "e324c75d-424a-4410-bdb4-5caa05c420b1",
   "metadata": {},
   "source": [
    "## 1"
   ]
  },
  {
   "cell_type": "code",
   "execution_count": 26,
   "id": "05577299-8a7c-42a5-8df5-c50affcb8463",
   "metadata": {},
   "outputs": [
    {
     "data": {
      "text/plain": [
       "2.0"
      ]
     },
     "execution_count": 26,
     "metadata": {},
     "output_type": "execute_result"
    }
   ],
   "source": [
    "(4 * 5) / (7 + 3)"
   ]
  },
  {
   "cell_type": "markdown",
   "id": "48acd488-95a0-4ebb-affc-0a0c4d0393a3",
   "metadata": {},
   "source": [
    "## 2"
   ]
  },
  {
   "cell_type": "code",
   "execution_count": 32,
   "id": "c57032b7-2b3d-4ac2-86ba-49ee78a94b63",
   "metadata": {},
   "outputs": [
    {
     "data": {
      "text/plain": [
       "0.0"
      ]
     },
     "execution_count": 32,
     "metadata": {},
     "output_type": "execute_result"
    }
   ],
   "source": [
    "9 / (3 + 6) - 1"
   ]
  },
  {
   "cell_type": "markdown",
   "id": "307ab39d-542c-4f86-8f56-896f97d61f86",
   "metadata": {},
   "source": [
    "# Exercise - Course solution"
   ]
  },
  {
   "cell_type": "markdown",
   "id": "4c51f990-8245-445a-bbe4-c4c163cf2b9f",
   "metadata": {},
   "source": [
    "# 1"
   ]
  },
  {
   "cell_type": "code",
   "execution_count": 37,
   "id": "679fba3c-20ea-4666-9ad4-d59b3a454ca2",
   "metadata": {},
   "outputs": [
    {
     "data": {
      "text/plain": [
       "2.0"
      ]
     },
     "execution_count": 37,
     "metadata": {},
     "output_type": "execute_result"
    }
   ],
   "source": [
    "4*5 / (7+3)"
   ]
  },
  {
   "cell_type": "markdown",
   "id": "4febe59d-d7b5-423d-a6f3-e1cc07b33116",
   "metadata": {},
   "source": [
    "## 2"
   ]
  },
  {
   "cell_type": "code",
   "execution_count": 47,
   "id": "abdddb7f-eed2-425a-b799-8f6eb64efba5",
   "metadata": {},
   "outputs": [
    {
     "data": {
      "text/plain": [
       "0.0"
      ]
     },
     "execution_count": 47,
     "metadata": {},
     "output_type": "execute_result"
    }
   ],
   "source": [
    "9 / (3+6) - 1"
   ]
  }
 ],
 "metadata": {
  "kernelspec": {
   "display_name": "Python [conda env:base] *",
   "language": "python",
   "name": "conda-base-py"
  },
  "language_info": {
   "codemirror_mode": {
    "name": "ipython",
    "version": 3
   },
   "file_extension": ".py",
   "mimetype": "text/x-python",
   "name": "python",
   "nbconvert_exporter": "python",
   "pygments_lexer": "ipython3",
   "version": "3.12.7"
  }
 },
 "nbformat": 4,
 "nbformat_minor": 5
}
