{
 "cells": [
  {
   "cell_type": "markdown",
   "id": "2ab7e633-bff4-40c6-923b-52b1a5f937cb",
   "metadata": {},
   "source": [
    "# Load necessary libraries"
   ]
  },
  {
   "cell_type": "code",
   "execution_count": 3,
   "id": "68485fd5-1421-4c1c-9959-ab8d31996aab",
   "metadata": {},
   "outputs": [],
   "source": [
    "from IPython.display import display, Math\n",
    "import sympy as sym"
   ]
  },
  {
   "cell_type": "markdown",
   "id": "0e3cbb2e-7d0b-417d-a0ed-fdb4d7567bbc",
   "metadata": {},
   "source": [
    "# Lecture"
   ]
  },
  {
   "cell_type": "code",
   "execution_count": 12,
   "id": "e73e1f81-0f3f-4395-87ba-27d9e7387941",
   "metadata": {},
   "outputs": [
    {
     "data": {
      "text/latex": [
       "$\\displaystyle x^{y}x^{z} = x^{y + z}$"
      ],
      "text/plain": [
       "<IPython.core.display.Math object>"
      ]
     },
     "metadata": {},
     "output_type": "display_data"
    }
   ],
   "source": [
    "display(Math(\"x^{y}x^{z} = x^{y + z}\"))"
   ]
  },
  {
   "cell_type": "code",
   "execution_count": 20,
   "id": "758c17ab-4281-4a29-a11a-82e87c5cd72f",
   "metadata": {},
   "outputs": [
    {
     "data": {
      "text/latex": [
       "$\\displaystyle \\frac{x^{y}}{x^{z}} = x^{y}x^{-z} = x^{y - z}$"
      ],
      "text/plain": [
       "<IPython.core.display.Math object>"
      ]
     },
     "metadata": {},
     "output_type": "display_data"
    }
   ],
   "source": [
    "display(Math(\"\\\\frac{x^{y}}{x^{z}} = x^{y}x^{-z} = x^{y - z}\"))"
   ]
  },
  {
   "cell_type": "code",
   "execution_count": 36,
   "id": "fc6e8dd1-4781-4c1d-8dc0-664a0e22d9f0",
   "metadata": {},
   "outputs": [
    {
     "data": {
      "text/latex": [
       "$\\displaystyle x^{y} x^{z}$"
      ],
      "text/plain": [
       "x**y*x**z"
      ]
     },
     "metadata": {},
     "output_type": "display_data"
    }
   ],
   "source": [
    "x, y, z = sym.symbols(\"x, y, z\")\n",
    "\n",
    "ex = x**y * x**z\n",
    "\n",
    "display(ex)"
   ]
  },
  {
   "cell_type": "code",
   "execution_count": 32,
   "id": "b8fde3be-856c-4b28-b62b-13245ad0c555",
   "metadata": {},
   "outputs": [
    {
     "data": {
      "text/latex": [
       "$\\displaystyle x^{y + z}$"
      ],
      "text/plain": [
       "x**(y + z)"
      ]
     },
     "metadata": {},
     "output_type": "display_data"
    }
   ],
   "source": [
    "display(sym.simplify(ex))"
   ]
  },
  {
   "cell_type": "code",
   "execution_count": 40,
   "id": "038db2a7-51cd-47f1-96e2-e46700c5e1a0",
   "metadata": {},
   "outputs": [
    {
     "data": {
      "text/latex": [
       "$\\displaystyle x^{y} y^{z}$"
      ],
      "text/plain": [
       "x**y*y**z"
      ]
     },
     "metadata": {},
     "output_type": "display_data"
    },
    {
     "data": {
      "text/latex": [
       "$\\displaystyle x^{y} y^{z}$"
      ],
      "text/plain": [
       "x**y*y**z"
      ]
     },
     "metadata": {},
     "output_type": "display_data"
    }
   ],
   "source": [
    "ex = x**y * y**z\n",
    "display(ex)\n",
    "display(sym.simplify(ex))"
   ]
  },
  {
   "cell_type": "code",
   "execution_count": 58,
   "id": "4d043007-9666-40cb-9505-bce923b42aae",
   "metadata": {},
   "outputs": [],
   "source": [
    "ex1 = x**y * x**z\n",
    "ex2 = x**y / x**z\n",
    "ex3 = x**y * y**z"
   ]
  },
  {
   "cell_type": "code",
   "execution_count": 60,
   "id": "cf78dae3-e6e3-4f16-9b86-af946cc94467",
   "metadata": {},
   "outputs": [
    {
     "data": {
      "text/latex": [
       "$\\displaystyle x^{y} x^{z} = x^{y + z}$"
      ],
      "text/plain": [
       "<IPython.core.display.Math object>"
      ]
     },
     "metadata": {},
     "output_type": "display_data"
    }
   ],
   "source": [
    "display(Math(\"%s = %s\" %(sym.latex(ex1), sym.latex(sym.simplify(ex1)))))"
   ]
  },
  {
   "cell_type": "code",
   "execution_count": 62,
   "id": "dcb95bf8-9811-4e1a-815e-7ebcea909f55",
   "metadata": {},
   "outputs": [
    {
     "data": {
      "text/latex": [
       "$\\displaystyle x^{y} x^{- z} = x^{y - z}$"
      ],
      "text/plain": [
       "<IPython.core.display.Math object>"
      ]
     },
     "metadata": {},
     "output_type": "display_data"
    }
   ],
   "source": [
    "display(Math(\"%s = %s\" %(sym.latex(ex2), sym.latex(sym.simplify(ex2)))))"
   ]
  },
  {
   "cell_type": "code",
   "execution_count": 64,
   "id": "e476338d-5451-475b-b94b-bb98389c5778",
   "metadata": {},
   "outputs": [
    {
     "data": {
      "text/latex": [
       "$\\displaystyle x^{y} y^{z} = x^{y} y^{z}$"
      ],
      "text/plain": [
       "<IPython.core.display.Math object>"
      ]
     },
     "metadata": {},
     "output_type": "display_data"
    }
   ],
   "source": [
    "display(Math(\"%s = %s\" %(sym.latex(ex3), sym.latex(sym.simplify(ex3)))))"
   ]
  },
  {
   "cell_type": "code",
   "execution_count": 66,
   "id": "dcd4eb69-3a34-44e7-9dcf-ceebadf94c2d",
   "metadata": {},
   "outputs": [
    {
     "data": {
      "text/latex": [
       "$\\displaystyle \\text{True}$"
      ],
      "text/plain": [
       "True"
      ]
     },
     "execution_count": 66,
     "metadata": {},
     "output_type": "execute_result"
    }
   ],
   "source": [
    "sym.Eq(4, 2 + 2)"
   ]
  },
  {
   "cell_type": "code",
   "execution_count": 72,
   "id": "0b94fd62-7a7e-4b3c-a3f4-8e5f6b0eebe2",
   "metadata": {},
   "outputs": [
    {
     "data": {
      "text/latex": [
       "$\\displaystyle \\text{False}$"
      ],
      "text/plain": [
       "False"
      ]
     },
     "execution_count": 72,
     "metadata": {},
     "output_type": "execute_result"
    }
   ],
   "source": [
    "sym.Eq(4, 2 + 5)"
   ]
  },
  {
   "cell_type": "code",
   "execution_count": 74,
   "id": "ae8f9876-c5a8-4e8a-8914-7ce83b931f6d",
   "metadata": {},
   "outputs": [
    {
     "data": {
      "text/latex": [
       "$\\displaystyle \\text{True}$"
      ],
      "text/plain": [
       "True"
      ]
     },
     "execution_count": 74,
     "metadata": {},
     "output_type": "execute_result"
    }
   ],
   "source": [
    "lhs = 4\n",
    "rhs = 6 - 2\n",
    "\n",
    "sym.Eq(lhs, rhs)"
   ]
  },
  {
   "cell_type": "code",
   "execution_count": 78,
   "id": "d2a605b2-3630-4d21-985b-47cd60dce265",
   "metadata": {},
   "outputs": [
    {
     "data": {
      "text/latex": [
       "$\\displaystyle x^{y} x^{z} = x^{y + z}$"
      ],
      "text/plain": [
       "Eq(x**y*x**z, x**(y + z))"
      ]
     },
     "execution_count": 78,
     "metadata": {},
     "output_type": "execute_result"
    }
   ],
   "source": [
    "sym.Eq(ex1, sym.simplify(ex1))"
   ]
  },
  {
   "cell_type": "code",
   "execution_count": 80,
   "id": "bb8bb45f-da69-4814-ba85-879d639ec39f",
   "metadata": {},
   "outputs": [
    {
     "data": {
      "text/latex": [
       "$\\displaystyle x^{y} x^{z} = x^{y - z}$"
      ],
      "text/plain": [
       "Eq(x**y*x**z, x**(y - z))"
      ]
     },
     "execution_count": 80,
     "metadata": {},
     "output_type": "execute_result"
    }
   ],
   "source": [
    "sym.Eq(ex1, sym.simplify(ex2))"
   ]
  },
  {
   "cell_type": "code",
   "execution_count": 82,
   "id": "d2c0449c-2bbf-4cfa-affc-b92caa326874",
   "metadata": {},
   "outputs": [
    {
     "data": {
      "text/latex": [
       "$\\displaystyle x^{y} x^{z} - x^{y + z} = 0$"
      ],
      "text/plain": [
       "Eq(x**y*x**z - x**(y + z), 0)"
      ]
     },
     "execution_count": 82,
     "metadata": {},
     "output_type": "execute_result"
    }
   ],
   "source": [
    "sym.Eq(ex1 - sym.simplify(ex1), 0)"
   ]
  },
  {
   "cell_type": "code",
   "execution_count": 102,
   "id": "7c1ad54d-1ef9-400d-be83-cd6db15361a5",
   "metadata": {},
   "outputs": [
    {
     "data": {
      "text/latex": [
       "$\\displaystyle x^{y} x^{z} - x^{y + z} = 0$"
      ],
      "text/plain": [
       "Eq(x**y*x**z - x**(y + z), 0)"
      ]
     },
     "execution_count": 102,
     "metadata": {},
     "output_type": "execute_result"
    }
   ],
   "source": [
    "sym.Eq(sym.expand( ex1 - sym.simplify(ex1)), 0)"
   ]
  },
  {
   "cell_type": "code",
   "execution_count": 106,
   "id": "3c252415-91cf-4c57-9ce4-313662bdaf4b",
   "metadata": {},
   "outputs": [
    {
     "data": {
      "text/latex": [
       "$\\displaystyle x^{y + z}$"
      ],
      "text/plain": [
       "x**(y + z)"
      ]
     },
     "metadata": {},
     "output_type": "display_data"
    }
   ],
   "source": [
    "display(sym.powsimp(ex1))"
   ]
  }
 ],
 "metadata": {
  "kernelspec": {
   "display_name": "Python [conda env:base] *",
   "language": "python",
   "name": "conda-base-py"
  },
  "language_info": {
   "codemirror_mode": {
    "name": "ipython",
    "version": 3
   },
   "file_extension": ".py",
   "mimetype": "text/x-python",
   "name": "python",
   "nbconvert_exporter": "python",
   "pygments_lexer": "ipython3",
   "version": "3.12.7"
  }
 },
 "nbformat": 4,
 "nbformat_minor": 5
}
