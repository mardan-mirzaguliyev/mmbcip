{
 "cells": [
  {
   "cell_type": "markdown",
   "id": "1a0a9cd5-908b-4a9c-b3bd-57c68c65bb9a",
   "metadata": {},
   "source": [
    "# Load necessary libraries"
   ]
  },
  {
   "cell_type": "code",
   "execution_count": 63,
   "id": "3ec0bac9-cf0a-43e7-8d59-3fc7a894e6c6",
   "metadata": {},
   "outputs": [],
   "source": [
    "from IPython.display import display, Math"
   ]
  },
  {
   "cell_type": "markdown",
   "id": "22d59fd2-8a1b-4fb3-9913-c6db314e1a7f",
   "metadata": {},
   "source": [
    "# Lecture"
   ]
  },
  {
   "cell_type": "code",
   "execution_count": 25,
   "id": "b03eeb96-0608-46ff-b002-92fce05d83f8",
   "metadata": {},
   "outputs": [
    {
     "name": "stdout",
     "output_type": "stream",
     "text": [
      "3.3333333333333335\n"
     ]
    },
    {
     "data": {
      "text/plain": [
       "3"
      ]
     },
     "execution_count": 25,
     "metadata": {},
     "output_type": "execute_result"
    }
   ],
   "source": [
    "a = 10\n",
    "b = 3\n",
    "\n",
    "print(a / b)\n",
    "int(a / b)"
   ]
  },
  {
   "cell_type": "code",
   "execution_count": 27,
   "id": "318431ab-eace-410d-bae3-1f2f72c70513",
   "metadata": {},
   "outputs": [
    {
     "data": {
      "text/plain": [
       "1"
      ]
     },
     "execution_count": 27,
     "metadata": {},
     "output_type": "execute_result"
    }
   ],
   "source": [
    "a % b"
   ]
  },
  {
   "cell_type": "code",
   "execution_count": 32,
   "id": "7da83041-e176-4b4a-b186-10ea6993802c",
   "metadata": {},
   "outputs": [
    {
     "name": "stdout",
     "output_type": "stream",
     "text": [
      "3 goes into 10, 3 times with a remainder of 1.\n"
     ]
    }
   ],
   "source": [
    "divis = int(a / b)\n",
    "remainder = a % b\n",
    "\n",
    "print(\"%g goes into %g, %g times with a remainder of %g.\" %(b, a, divis, remainder))"
   ]
  },
  {
   "cell_type": "code",
   "execution_count": 38,
   "id": "3d980450-c3fd-45ae-b32d-c3a9c1bc17a8",
   "metadata": {},
   "outputs": [
    {
     "name": "stdout",
     "output_type": "stream",
     "text": [
      "3 goes into 12, 4 times with a remainder of 0.\n"
     ]
    }
   ],
   "source": [
    "a = 12\n",
    "b = 3\n",
    "\n",
    "\n",
    "divis = int(a / b)\n",
    "remainder = a % b\n",
    "\n",
    "print(\"%g goes into %g, %g times with a remainder of %g.\" %(b, a, divis, remainder))"
   ]
  },
  {
   "cell_type": "code",
   "execution_count": 51,
   "id": "f68b064a-d82c-4fab-848a-6669b2075f53",
   "metadata": {},
   "outputs": [
    {
     "name": "stdout",
     "output_type": "stream",
     "text": [
      "5454 goes into 155455, 28 times with a remainder of 2743.\n"
     ]
    }
   ],
   "source": [
    "a = 155455\n",
    "b = 5454\n",
    "\n",
    "\n",
    "divis = int(a / b)\n",
    "remainder = a % b\n",
    "\n",
    "print(\"%g goes into %g, %g times with a remainder of %g.\" %(b, a, divis, remainder))"
   ]
  },
  {
   "cell_type": "markdown",
   "id": "cd3beb39-6552-4928-9a9a-3fccd082d4e8",
   "metadata": {},
   "source": [
    "# Exercise - My solution"
   ]
  },
  {
   "cell_type": "code",
   "execution_count": 73,
   "id": "647b0a2e-fffd-4b0d-ac9f-532a0debf78b",
   "metadata": {},
   "outputs": [
    {
     "name": "stdout",
     "output_type": "stream",
     "text": [
      "-5 is an odd number\n",
      "-4 is an even number\n",
      "-3 is an odd number\n",
      "-2 is an even number\n",
      "-1 is an odd number\n",
      "0 is an even number\n",
      "1 is an odd number\n",
      "2 is an even number\n",
      "3 is an odd number\n",
      "4 is an even number\n",
      "5 is an odd number\n"
     ]
    }
   ],
   "source": [
    "for num in range(-5, 6):\n",
    "    if num % 2 == 0:\n",
    "        print(\"%g is an even number\" %(num))\n",
    "    else:\n",
    "        print(\"%g is an odd number\" %(num))"
   ]
  },
  {
   "cell_type": "code",
   "execution_count": 234,
   "id": "101a8b31-496e-4578-b832-19efad3acedf",
   "metadata": {},
   "outputs": [
    {
     "name": "stdout",
     "output_type": "stream",
     "text": [
      "Odd negative:  -5 is an odd  number\n",
      "Even negative: -4 is an even number\n",
      "Odd negative:  -3 is an odd  number\n",
      "Even negative: -2 is an even number\n",
      "Odd negative:  -1 is an odd  number\n",
      "Odd positive:   1 is an odd  number\n",
      "Even positive:  2 is an even number\n",
      "Odd positive:   3 is an odd  number\n",
      "Even positive:  4 is an even number\n",
      "Odd positive:   5 is an odd  number\n"
     ]
    }
   ],
   "source": [
    "for num in range(-5, 6):\n",
    "    if num % 2 == 0 and num > 0:\n",
    "        print(\"Even positive: % g is an even number\" %(num))\n",
    "    elif num % 2 == 0 and num < 0:\n",
    "        print(\"Even negative: %g is an even number\" %(num))\n",
    "    elif num % 2 != 0 and num > 0:\n",
    "        print(\"Odd positive:   %g is an odd  number\" %(num))\n",
    "    elif num % 2 != 0 and num < 0:\n",
    "        print(\"Odd negative:  %g is an odd  number\" %(num))"
   ]
  },
  {
   "cell_type": "code",
   "execution_count": null,
   "id": "847429ee-9b7c-4fbd-b7a1-d43b6bb07813",
   "metadata": {},
   "outputs": [],
   "source": []
  },
  {
   "cell_type": "code",
   "execution_count": null,
   "id": "6cd114c6-9f0d-472b-9668-5079e969febb",
   "metadata": {},
   "outputs": [],
   "source": []
  },
  {
   "cell_type": "markdown",
   "id": "d4e0f280-5848-4e6e-af59-1486a3031292",
   "metadata": {},
   "source": [
    "# Exercise - Course solution"
   ]
  },
  {
   "cell_type": "code",
   "execution_count": 264,
   "id": "8febdb02-42ef-457c-aef4-f68bf338e422",
   "metadata": {},
   "outputs": [
    {
     "name": "stdout",
     "output_type": "stream",
     "text": [
      "-5 is an odd  number\n",
      "-4 is an even number\n",
      "-3 is an odd  number\n",
      "-2 is an even number\n",
      "-1 is an odd  number\n",
      " 0 is an even number\n",
      " 1 is an odd  number\n",
      " 2 is an even number\n",
      " 3 is an odd  number\n",
      " 4 is an even number\n",
      " 5 is an odd  number\n"
     ]
    }
   ],
   "source": [
    "nums = range(-5, 6)\n",
    "\n",
    "for i in nums:\n",
    "\n",
    "    first_char = \" \"\n",
    "\n",
    "    if i < 0:\n",
    "        first_char = \"\"\n",
    "\n",
    "    if i % 2 == 0:\n",
    "        print(\"%s%g is an even number\" %(first_char, i))\n",
    "    else:\n",
    "        print(\"%s%g is an odd  number\" %(first_char, i))"
   ]
  }
 ],
 "metadata": {
  "kernelspec": {
   "display_name": "Python [conda env:base] *",
   "language": "python",
   "name": "conda-base-py"
  },
  "language_info": {
   "codemirror_mode": {
    "name": "ipython",
    "version": 3
   },
   "file_extension": ".py",
   "mimetype": "text/x-python",
   "name": "python",
   "nbconvert_exporter": "python",
   "pygments_lexer": "ipython3",
   "version": "3.12.7"
  }
 },
 "nbformat": 4,
 "nbformat_minor": 5
}
