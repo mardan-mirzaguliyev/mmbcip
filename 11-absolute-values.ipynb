{
 "cells": [
  {
   "cell_type": "markdown",
   "id": "f84dbc95-4d19-4990-abb8-7ed5dd800d16",
   "metadata": {},
   "source": [
    "# Load necessary libraries"
   ]
  },
  {
   "cell_type": "code",
   "execution_count": 18,
   "id": "fdba6d8d-f95e-4165-9d40-520168c8cfc0",
   "metadata": {},
   "outputs": [],
   "source": [
    "from IPython.display import display, Math"
   ]
  },
  {
   "cell_type": "markdown",
   "id": "33538221-0bf8-4818-9860-04c3ac379c5d",
   "metadata": {},
   "source": [
    "# Lecture"
   ]
  },
  {
   "cell_type": "code",
   "execution_count": 8,
   "id": "b90317cf-4a94-4f90-86c1-f51258d5c708",
   "metadata": {},
   "outputs": [
    {
     "data": {
      "text/plain": [
       "4"
      ]
     },
     "execution_count": 8,
     "metadata": {},
     "output_type": "execute_result"
    }
   ],
   "source": [
    "abs(4)"
   ]
  },
  {
   "cell_type": "code",
   "execution_count": 10,
   "id": "ac82e975-7e7c-48eb-a2b5-05fa71a23dfe",
   "metadata": {},
   "outputs": [
    {
     "data": {
      "text/plain": [
       "4"
      ]
     },
     "execution_count": 10,
     "metadata": {},
     "output_type": "execute_result"
    }
   ],
   "source": [
    "abs(-4)"
   ]
  },
  {
   "cell_type": "code",
   "execution_count": 14,
   "id": "ea587543-ee8d-4356-aec3-dc2104a3eb77",
   "metadata": {},
   "outputs": [
    {
     "name": "stdout",
     "output_type": "stream",
     "text": [
      "-4\n"
     ]
    },
    {
     "data": {
      "text/plain": [
       "4"
      ]
     },
     "execution_count": 14,
     "metadata": {},
     "output_type": "execute_result"
    }
   ],
   "source": [
    "a = -4\n",
    "b = abs(a)\n",
    "print(a)\n",
    "b"
   ]
  },
  {
   "cell_type": "code",
   "execution_count": 16,
   "id": "51d24a6b-abf7-4835-830f-7b3aaca07e4d",
   "metadata": {},
   "outputs": [
    {
     "data": {
      "text/plain": [
       "(-4, 4)"
      ]
     },
     "execution_count": 16,
     "metadata": {},
     "output_type": "execute_result"
    }
   ],
   "source": [
    "a, b"
   ]
  },
  {
   "cell_type": "code",
   "execution_count": 42,
   "id": "fba2a69b-6d02-4958-bd42-48b2bf9475ca",
   "metadata": {},
   "outputs": [
    {
     "data": {
      "text/latex": [
       "$\\displaystyle |-4.3| = 4.3$"
      ],
      "text/plain": [
       "<IPython.core.display.Math object>"
      ]
     },
     "metadata": {},
     "output_type": "display_data"
    }
   ],
   "source": [
    "x = -4.3\n",
    "\n",
    "display(Math(\"|%g| = %g\" %(x, abs(x))))"
   ]
  },
  {
   "cell_type": "markdown",
   "id": "dd8847a0-d248-41a7-b658-b3e46f840930",
   "metadata": {},
   "source": [
    "# Exercise - my solution"
   ]
  },
  {
   "cell_type": "code",
   "execution_count": 66,
   "id": "7e264a57-2c8d-4852-9f5f-37542f12a35d",
   "metadata": {},
   "outputs": [
    {
     "name": "stdout",
     "output_type": "stream",
     "text": [
      "-4 is not tested\n",
      "Absolute value of 6 is 6.\n",
      "-1 is not tested\n",
      "Absolute value of 43 is 43.\n",
      "Absolute value of -18 is 18.\n",
      "2 is not tested\n",
      "0 is not tested\n"
     ]
    }
   ],
   "source": [
    "nums = [-4, 6, -1, 43, -18, 2, 0]\n",
    "\n",
    "for num in nums:\n",
    "    if num < -5 or num > 2:\n",
    "        print(\"Absolute value of %g is %g.\" %(num, abs(num)))\n",
    "    else:\n",
    "        print(\"%g is not tested.\" %num)"
   ]
  },
  {
   "cell_type": "markdown",
   "id": "c37a6c8e-1d66-4cf5-a9e3-29a39dacd10d",
   "metadata": {},
   "source": [
    "# Exercise - course solution"
   ]
  },
  {
   "cell_type": "code",
   "execution_count": 71,
   "id": "0401b951-1ae3-4f0a-9e70-26629f8d7bb2",
   "metadata": {},
   "outputs": [
    {
     "name": "stdout",
     "output_type": "stream",
     "text": [
      "-4 was not tested.\n",
      "Absolute value of 0 is 0.\n",
      "-1 was not tested.\n",
      "Absolute value of 0 is 0.\n",
      "Absolute value of 0 is 0.\n",
      "2 was not tested.\n",
      "0 was not tested.\n"
     ]
    }
   ],
   "source": [
    "for numi in nums:\n",
    "    if numi < -5 or numi > 2:\n",
    "        print(\"Absolute value of %g is %g.\" %(num, abs(num)))\n",
    "    else:\n",
    "        print(str(numi) + \" was not tested.\")"
   ]
  }
 ],
 "metadata": {
  "kernelspec": {
   "display_name": "Python [conda env:base] *",
   "language": "python",
   "name": "conda-base-py"
  },
  "language_info": {
   "codemirror_mode": {
    "name": "ipython",
    "version": 3
   },
   "file_extension": ".py",
   "mimetype": "text/x-python",
   "name": "python",
   "nbconvert_exporter": "python",
   "pygments_lexer": "ipython3",
   "version": "3.12.7"
  }
 },
 "nbformat": 4,
 "nbformat_minor": 5
}
