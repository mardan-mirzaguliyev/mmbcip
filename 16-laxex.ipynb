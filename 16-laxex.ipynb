{
 "cells": [
  {
   "cell_type": "markdown",
   "id": "04e721dc-70c4-4662-8d28-af5e13b72dee",
   "metadata": {},
   "source": [
    "# Load necessary packages"
   ]
  },
  {
   "cell_type": "code",
   "execution_count": 13,
   "id": "0b17b76d-8ee0-4f0e-a18c-95eea53607d3",
   "metadata": {},
   "outputs": [],
   "source": [
    "from IPython.display import display, Math"
   ]
  },
  {
   "cell_type": "markdown",
   "id": "44f9045e-b080-4ff4-b0e5-829f207e8e3d",
   "metadata": {},
   "source": [
    "# Lecture"
   ]
  },
  {
   "cell_type": "code",
   "execution_count": 15,
   "id": "27b9833e-2bab-470a-9340-c1f3efd9e6a5",
   "metadata": {},
   "outputs": [
    {
     "name": "stdout",
     "output_type": "stream",
     "text": [
      "4 + 3 = 7\n"
     ]
    }
   ],
   "source": [
    "print(\"4 + 3 = 7\")"
   ]
  },
  {
   "cell_type": "code",
   "execution_count": 17,
   "id": "ef36f798-d02d-4bc0-90f4-f385fc912c5f",
   "metadata": {},
   "outputs": [
    {
     "data": {
      "text/latex": [
       "$\\displaystyle 4 + 3 = 7$"
      ],
      "text/plain": [
       "<IPython.core.display.Math object>"
      ]
     },
     "metadata": {},
     "output_type": "display_data"
    }
   ],
   "source": [
    "display(Math(\"4 + 3 = 7\"))"
   ]
  },
  {
   "cell_type": "code",
   "execution_count": 25,
   "id": "7f9cc826-6279-4803-aab4-cc986a4fa813",
   "metadata": {},
   "outputs": [
    {
     "data": {
      "text/latex": [
       "$\\displaystyle 4 + 3 = 17$"
      ],
      "text/plain": [
       "<IPython.core.display.Math object>"
      ]
     },
     "metadata": {},
     "output_type": "display_data"
    }
   ],
   "source": [
    "display(Math(\"4 + 3 = 17\"))"
   ]
  },
  {
   "cell_type": "code",
   "execution_count": 50,
   "id": "5825482e-41e3-45bf-a7d1-7a1489979eea",
   "metadata": {},
   "outputs": [
    {
     "data": {
      "text/latex": [
       "$\\displaystyle \\sigma = \\mu \\times \\sqrt{5x + 3z + 17u}$"
      ],
      "text/plain": [
       "<IPython.core.display.Math object>"
      ]
     },
     "metadata": {},
     "output_type": "display_data"
    }
   ],
   "source": [
    "display(Math(\"\\\\sigma = \\\\mu \\\\times \\\\sqrt{5x + 3z + 17u}\"))"
   ]
  },
  {
   "cell_type": "code",
   "execution_count": 48,
   "id": "465fec03-e974-4ca1-96c9-ec6651d9170c",
   "metadata": {},
   "outputs": [
    {
     "data": {
      "text/latex": [
       "$\\displaystyle x_{mm} + y^{n + 2k - 15k}$"
      ],
      "text/plain": [
       "<IPython.core.display.Math object>"
      ]
     },
     "metadata": {},
     "output_type": "display_data"
    }
   ],
   "source": [
    "display(Math(\"x_{mm} + y^{n + 2k - 15k}\"))"
   ]
  },
  {
   "cell_type": "code",
   "execution_count": 52,
   "id": "77246736-4a60-4a55-9773-b153f071a974",
   "metadata": {},
   "outputs": [
    {
     "data": {
      "text/latex": [
       "$\\displaystyle \\sqrt{x}\\sqrt{x}$"
      ],
      "text/plain": [
       "<IPython.core.display.Math object>"
      ]
     },
     "metadata": {},
     "output_type": "display_data"
    }
   ],
   "source": [
    "display(Math(\"\\\\sqrt{x}\\\\sqrt{x}\"))"
   ]
  },
  {
   "cell_type": "code",
   "execution_count": 56,
   "id": "024477e6-62c3-4bb6-948a-bfab446642e7",
   "metadata": {},
   "outputs": [
    {
     "data": {
      "text/latex": [
       "$\\displaystyle \\frac{1 + x}{2v -s^{t + 4r}}$"
      ],
      "text/plain": [
       "<IPython.core.display.Math object>"
      ]
     },
     "metadata": {},
     "output_type": "display_data"
    }
   ],
   "source": [
    "display(Math(\"\\\\frac{1 + x}{2v -s^{t + 4r}}\"))"
   ]
  },
  {
   "cell_type": "code",
   "execution_count": 72,
   "id": "65645445-24f9-4a51-b692-2a8a0291f68f",
   "metadata": {},
   "outputs": [
    {
     "data": {
      "text/latex": [
       "$\\displaystyle \\text{The answer to this equation is } \\frac{1 + x}{2v -s^{t + 4r}}$"
      ],
      "text/plain": [
       "<IPython.core.display.Math object>"
      ]
     },
     "metadata": {},
     "output_type": "display_data"
    }
   ],
   "source": [
    "display(Math(\"\\\\text{The answer to this equation is } \\\\frac{1 + x}{2v -s^{t + 4r}}\"))"
   ]
  },
  {
   "cell_type": "markdown",
   "id": "3f47507c-5fa9-4906-89d7-6fed8611ad0f",
   "metadata": {},
   "source": [
    "##### This is a markdown cell\n",
    "\n",
    "$$\\frac{1 + x}{2v -s^{t + 4r}}$$"
   ]
  },
  {
   "cell_type": "markdown",
   "id": "814c4075-d686-4d88-8725-8f3408e68ee7",
   "metadata": {},
   "source": [
    "We can make the following math expressinon: $\\frac{1 + x}{2v -s^{t + 4r}}$"
   ]
  },
  {
   "cell_type": "markdown",
   "id": "f159d239-315c-4b72-a8b2-c6c500696549",
   "metadata": {},
   "source": [
    "# Exercise - my solution"
   ]
  },
  {
   "cell_type": "markdown",
   "id": "336feae4-a4c0-4bf0-b1a5-dc5e72d19532",
   "metadata": {},
   "source": [
    "## 1"
   ]
  },
  {
   "cell_type": "code",
   "execution_count": 98,
   "id": "990b8f8c-d2c5-4f3a-952b-c07e4ed9278c",
   "metadata": {},
   "outputs": [
    {
     "data": {
      "text/latex": [
       "$\\displaystyle 4x + 5y - 8z = 17$"
      ],
      "text/plain": [
       "<IPython.core.display.Math object>"
      ]
     },
     "metadata": {},
     "output_type": "display_data"
    }
   ],
   "source": [
    "display(Math(\"4x + 5y - 8z = 17\"))"
   ]
  },
  {
   "cell_type": "markdown",
   "id": "5bc26309-dcc3-4dc6-a16d-deb73b2dfa56",
   "metadata": {},
   "source": [
    "## 2"
   ]
  },
  {
   "cell_type": "code",
   "execution_count": 120,
   "id": "38d76a18-039c-4c5a-ba85-3d507409da83",
   "metadata": {},
   "outputs": [
    {
     "data": {
      "text/latex": [
       "$\\displaystyle \\sin(2\\pi ft + \\theta)$"
      ],
      "text/plain": [
       "<IPython.core.display.Math object>"
      ]
     },
     "metadata": {},
     "output_type": "display_data"
    }
   ],
   "source": [
    "display(Math(\"\\\\sin(2\\\\pi ft + \\\\theta)\"))"
   ]
  },
  {
   "cell_type": "markdown",
   "id": "994b0709-d4cc-448f-a353-164619012337",
   "metadata": {},
   "source": [
    "# 3"
   ]
  },
  {
   "cell_type": "code",
   "execution_count": 111,
   "id": "d38c5ff9-7c4f-49a6-8a1b-002e3b02cdc0",
   "metadata": {},
   "outputs": [
    {
     "data": {
      "text/latex": [
       "$\\displaystyle e = mc^{2}$"
      ],
      "text/plain": [
       "<IPython.core.display.Math object>"
      ]
     },
     "metadata": {},
     "output_type": "display_data"
    }
   ],
   "source": [
    "display(Math(\"e = mc^{2}\"))"
   ]
  },
  {
   "cell_type": "markdown",
   "id": "b19429fe-2f97-4ec0-9fc9-035a52281e70",
   "metadata": {},
   "source": [
    "# 4"
   ]
  },
  {
   "cell_type": "code",
   "execution_count": 116,
   "id": "f68c9bdf-14c2-498a-be21-67361b0a0c0e",
   "metadata": {},
   "outputs": [
    {
     "data": {
      "text/latex": [
       "$\\displaystyle \\frac{4 + 5x^{2}}{(1 + x)(1 - x)}$"
      ],
      "text/plain": [
       "<IPython.core.display.Math object>"
      ]
     },
     "metadata": {},
     "output_type": "display_data"
    }
   ],
   "source": [
    "display(Math(\"\\\\frac{4 + 5x^{2}}{(1 + x)(1 - x)}\"))"
   ]
  }
 ],
 "metadata": {
  "kernelspec": {
   "display_name": "Python [conda env:base] *",
   "language": "python",
   "name": "conda-base-py"
  },
  "language_info": {
   "codemirror_mode": {
    "name": "ipython",
    "version": 3
   },
   "file_extension": ".py",
   "mimetype": "text/x-python",
   "name": "python",
   "nbconvert_exporter": "python",
   "pygments_lexer": "ipython3",
   "version": "3.12.7"
  }
 },
 "nbformat": 4,
 "nbformat_minor": 5
}
