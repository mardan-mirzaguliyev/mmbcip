{
 "cells": [
  {
   "cell_type": "markdown",
   "id": "fb7882f6-b751-46bf-9765-3f2909e13437",
   "metadata": {},
   "source": [
    "# Lecture"
   ]
  },
  {
   "cell_type": "markdown",
   "id": "2995ca13-ff53-4cc4-93f8-609b2efb6507",
   "metadata": {},
   "source": [
    "## Testing for inequality"
   ]
  },
  {
   "cell_type": "code",
   "execution_count": 7,
   "id": "dc08cc2b-da4c-40c3-9fb1-2863284b4ed8",
   "metadata": {},
   "outputs": [
    {
     "data": {
      "text/plain": [
       "True"
      ]
     },
     "execution_count": 7,
     "metadata": {},
     "output_type": "execute_result"
    }
   ],
   "source": [
    "4 > 3 # greater than"
   ]
  },
  {
   "cell_type": "code",
   "execution_count": 19,
   "id": "e4d29bf2-253d-43d3-98f7-d540b8fc13ac",
   "metadata": {},
   "outputs": [
    {
     "data": {
      "text/plain": [
       "False"
      ]
     },
     "execution_count": 19,
     "metadata": {},
     "output_type": "execute_result"
    }
   ],
   "source": [
    "4 > 5"
   ]
  },
  {
   "cell_type": "code",
   "execution_count": 21,
   "id": "1515b960-a34c-44d6-ac81-f831bf129dd7",
   "metadata": {},
   "outputs": [
    {
     "data": {
      "text/plain": [
       "True"
      ]
     },
     "execution_count": 21,
     "metadata": {},
     "output_type": "execute_result"
    }
   ],
   "source": [
    "b = 10 > 3 * 3\n",
    "b"
   ]
  },
  {
   "cell_type": "code",
   "execution_count": 9,
   "id": "46935e62-6cb7-4c03-bbdc-8ae93238f0e2",
   "metadata": {},
   "outputs": [
    {
     "data": {
      "text/plain": [
       "True"
      ]
     },
     "execution_count": 9,
     "metadata": {},
     "output_type": "execute_result"
    }
   ],
   "source": [
    "4 < 5 # less than"
   ]
  },
  {
   "cell_type": "code",
   "execution_count": 23,
   "id": "331231a1-a58b-4a7f-aab1-dc8e8a336998",
   "metadata": {},
   "outputs": [
    {
     "data": {
      "text/plain": [
       "bool"
      ]
     },
     "execution_count": 23,
     "metadata": {},
     "output_type": "execute_result"
    }
   ],
   "source": [
    "type(b)"
   ]
  },
  {
   "cell_type": "code",
   "execution_count": 25,
   "id": "8c30f580-4bd6-4144-aba3-91ef64ab4b52",
   "metadata": {},
   "outputs": [
    {
     "name": "stdout",
     "output_type": "stream",
     "text": [
      "<class 'bool'>\n"
     ]
    }
   ],
   "source": [
    "print(type(b))"
   ]
  },
  {
   "cell_type": "code",
   "execution_count": 11,
   "id": "0f3bbeeb-1484-42cf-b97c-d1b9b874ba8a",
   "metadata": {},
   "outputs": [
    {
     "data": {
      "text/plain": [
       "True"
      ]
     },
     "execution_count": 11,
     "metadata": {},
     "output_type": "execute_result"
    }
   ],
   "source": [
    "4 >= 2 + 2 # greater than or equal to"
   ]
  },
  {
   "cell_type": "code",
   "execution_count": 27,
   "id": "95544349-ddfd-464f-909b-ca8e4fb6c5e8",
   "metadata": {},
   "outputs": [
    {
     "data": {
      "text/plain": [
       "False"
      ]
     },
     "execution_count": 27,
     "metadata": {},
     "output_type": "execute_result"
    }
   ],
   "source": [
    "4 >= 2 + 2 + 1"
   ]
  },
  {
   "cell_type": "code",
   "execution_count": 15,
   "id": "917be9c1-90a3-42c1-9568-673ace0bb3f2",
   "metadata": {},
   "outputs": [
    {
     "data": {
      "text/plain": [
       "True"
      ]
     },
     "execution_count": 15,
     "metadata": {},
     "output_type": "execute_result"
    }
   ],
   "source": [
    "4 <= 3 + 2 # less than or equal to"
   ]
  },
  {
   "cell_type": "code",
   "execution_count": 17,
   "id": "aa28454e-2a9a-47e6-886e-b8577536b1f6",
   "metadata": {},
   "outputs": [
    {
     "data": {
      "text/plain": [
       "[True, False, 1, 0]"
      ]
     },
     "execution_count": 17,
     "metadata": {},
     "output_type": "execute_result"
    }
   ],
   "source": [
    "boolean_data_types = [True, False, 1, 0]\n",
    "boolean_data_types"
   ]
  },
  {
   "cell_type": "markdown",
   "id": "9c7ad3f7-dd20-4c8b-9c22-8321f6165e84",
   "metadata": {},
   "source": [
    "## Testing for equality"
   ]
  },
  {
   "cell_type": "code",
   "execution_count": 33,
   "id": "158bd9ae-0b5a-4ae9-8deb-a920fff0fa09",
   "metadata": {},
   "outputs": [
    {
     "data": {
      "text/plain": [
       "False"
      ]
     },
     "execution_count": 33,
     "metadata": {},
     "output_type": "execute_result"
    }
   ],
   "source": [
    "test = 4 == 2 + 2 + 1\n",
    "test"
   ]
  },
  {
   "cell_type": "code",
   "execution_count": null,
   "id": "285089c4-7ca4-4058-9cd2-b07aca8aedc5",
   "metadata": {},
   "outputs": [],
   "source": []
  },
  {
   "cell_type": "markdown",
   "id": "1438de25-2f6f-45dd-a134-16685eed7255",
   "metadata": {},
   "source": [
    "# Exercise - my solution"
   ]
  },
  {
   "cell_type": "markdown",
   "id": "7beb1852-b25c-458b-a66a-08ccc4ca0f79",
   "metadata": {},
   "source": [
    "## 1"
   ]
  },
  {
   "cell_type": "code",
   "execution_count": 41,
   "id": "09b13c06-a3b3-4643-bdf3-61dca6f0eb8d",
   "metadata": {},
   "outputs": [
    {
     "name": "stdout",
     "output_type": "stream",
     "text": [
      "True\n",
      "False\n"
     ]
    },
    {
     "data": {
      "text/plain": [
       "False"
      ]
     },
     "execution_count": 41,
     "metadata": {},
     "output_type": "execute_result"
    }
   ],
   "source": [
    "x = 2\n",
    "first_check = 4*x + 3 < 17 - x**2\n",
    "print(first_check)\n",
    "\n",
    "x = 3\n",
    "second_check = 4*x + 3 < 17 - x**2\n",
    "print(second_check)\n",
    "\n",
    "x = 4\n",
    "third_check = 4*3 + 3 < 17 - x**2\n",
    "third_check"
   ]
  },
  {
   "cell_type": "markdown",
   "id": "f7fb8a6c-44d3-4ce8-a838-6c93442804eb",
   "metadata": {},
   "source": [
    "# 2"
   ]
  },
  {
   "cell_type": "code",
   "execution_count": 53,
   "id": "8126a6f8-0348-4bc8-a3ae-eb08ddc083c2",
   "metadata": {},
   "outputs": [
    {
     "name": "stdout",
     "output_type": "stream",
     "text": [
      "True\n",
      "True\n"
     ]
    },
    {
     "data": {
      "text/plain": [
       "True"
      ]
     },
     "execution_count": 53,
     "metadata": {},
     "output_type": "execute_result"
    }
   ],
   "source": [
    "x = 2\n",
    "first_check = 8*x - 2 <= -3*x + 42\n",
    "print(first_check)\n",
    "\n",
    "x = 3\n",
    "second_check = 8*x - 2 <= -3*x + 42\n",
    "print(second_check)\n",
    "\n",
    "x = 4\n",
    "third_check = 8*x - 2 <= -3*x + 42\n",
    "third_check"
   ]
  }
 ],
 "metadata": {
  "kernelspec": {
   "display_name": "Python [conda env:base] *",
   "language": "python",
   "name": "conda-base-py"
  },
  "language_info": {
   "codemirror_mode": {
    "name": "ipython",
    "version": 3
   },
   "file_extension": ".py",
   "mimetype": "text/x-python",
   "name": "python",
   "nbconvert_exporter": "python",
   "pygments_lexer": "ipython3",
   "version": "3.12.7"
  }
 },
 "nbformat": 4,
 "nbformat_minor": 5
}
