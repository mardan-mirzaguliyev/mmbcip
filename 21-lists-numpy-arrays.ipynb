{
 "cells": [
  {
   "cell_type": "markdown",
   "id": "b34363f5-f69d-4f54-ae7d-1c19fb9c5d9c",
   "metadata": {},
   "source": [
    "# Load necessary libraries"
   ]
  },
  {
   "cell_type": "code",
   "execution_count": 13,
   "id": "ef4c6223-607f-404b-ad7f-4c153b52b567",
   "metadata": {},
   "outputs": [],
   "source": [
    "import numpy as np"
   ]
  },
  {
   "cell_type": "markdown",
   "id": "e6454474-0717-4a44-afa5-b6cd834bf9f7",
   "metadata": {},
   "source": [
    "# Lecture"
   ]
  },
  {
   "cell_type": "code",
   "execution_count": 15,
   "id": "dd437b08-5d55-4092-aadd-432248ea4060",
   "metadata": {},
   "outputs": [
    {
     "data": {
      "text/plain": [
       "list"
      ]
     },
     "execution_count": 15,
     "metadata": {},
     "output_type": "execute_result"
    }
   ],
   "source": [
    "aList = [0, 1, 2, 4, 5]\n",
    "type(aList)"
   ]
  },
  {
   "cell_type": "code",
   "execution_count": 19,
   "id": "9094d9e2-e2f2-434d-817b-db7a60e6460e",
   "metadata": {},
   "outputs": [
    {
     "data": {
      "text/plain": [
       "[3, ['3', '4', '5'], 5.5, [4, 5, 6]]"
      ]
     },
     "execution_count": 19,
     "metadata": {},
     "output_type": "execute_result"
    }
   ],
   "source": [
    "listList = [3, ['3', '4', '5'], 5.5, [4, 5, 6]]\n",
    "listList"
   ]
  },
  {
   "cell_type": "code",
   "execution_count": 21,
   "id": "d6da624e-3f0f-4fbd-b57c-996a0d71e66b",
   "metadata": {},
   "outputs": [
    {
     "data": {
      "text/plain": [
       "[3, ['3', '4', '5'], 5.5, [4, 5, 6]]"
      ]
     },
     "execution_count": 21,
     "metadata": {},
     "output_type": "execute_result"
    }
   ],
   "source": [
    "listList = [3,               # a number\n",
    "            ['3', '4', '5'], # a list of strings\n",
    "            5.5,             # another float \n",
    "            [4, 5, 6]\n",
    "           ]\n",
    "listList"
   ]
  },
  {
   "cell_type": "code",
   "execution_count": 25,
   "id": "971fed03-3d61-45e3-99a7-d7577d947f37",
   "metadata": {},
   "outputs": [
    {
     "data": {
      "text/plain": [
       "[0, 1, 2, 4, 5, '0', '1', '2', '4', '5']"
      ]
     },
     "execution_count": 25,
     "metadata": {},
     "output_type": "execute_result"
    }
   ],
   "source": [
    "aList = [0, 1, 2, 4, 5]\n",
    "sList = ['0', '1', '2', '4', '5']\n",
    "\n",
    "aList + sList"
   ]
  },
  {
   "cell_type": "code",
   "execution_count": 27,
   "id": "7ab22a9c-5717-41e7-8ef0-f54a076d2b26",
   "metadata": {},
   "outputs": [
    {
     "data": {
      "text/plain": [
       "['0', '1', '2', '4', '5', '0', '1', '2', '4', '5']"
      ]
     },
     "execution_count": 27,
     "metadata": {},
     "output_type": "execute_result"
    }
   ],
   "source": [
    "sList + sList"
   ]
  },
  {
   "cell_type": "code",
   "execution_count": 29,
   "id": "9749dfff-7db9-4d03-93bd-5049ffc1336b",
   "metadata": {},
   "outputs": [
    {
     "data": {
      "text/plain": [
       "['0', '1', '2', '4', '5', '0', '1', '2', '4', '5', '0', '1', '2', '4', '5']"
      ]
     },
     "execution_count": 29,
     "metadata": {},
     "output_type": "execute_result"
    }
   ],
   "source": [
    "sList * 3"
   ]
  },
  {
   "cell_type": "code",
   "execution_count": 31,
   "id": "cc093041-52a2-4e8a-b9c4-d75d770c7f30",
   "metadata": {},
   "outputs": [
    {
     "data": {
      "text/plain": [
       "[0, 1, 2, 4, 5, 0, 1, 2, 4, 5, 0, 1, 2, 4, 5]"
      ]
     },
     "execution_count": 31,
     "metadata": {},
     "output_type": "execute_result"
    }
   ],
   "source": [
    "aList * 3"
   ]
  },
  {
   "cell_type": "code",
   "execution_count": 39,
   "id": "f8a91238-3807-4bc2-981f-0cf647d017b8",
   "metadata": {},
   "outputs": [
    {
     "name": "stdout",
     "output_type": "stream",
     "text": [
      "[0 1 2 4 5]\n",
      "<class 'list'>\n",
      "<class 'numpy.ndarray'>\n"
     ]
    }
   ],
   "source": [
    "aList_np = np.array(aList)\n",
    "print(aList_np)\n",
    "\n",
    "print(type(aList))\n",
    "print(type(aList_np))"
   ]
  },
  {
   "cell_type": "code",
   "execution_count": 44,
   "id": "c28aac5b-01d6-4803-a76b-df6ea9e432be",
   "metadata": {},
   "outputs": [
    {
     "name": "stdout",
     "output_type": "stream",
     "text": [
      "[0, 1, 2, 4, 5]\n",
      "[0 1 2 4 5]\n"
     ]
    }
   ],
   "source": [
    "print(aList)\n",
    "print(aList_np)"
   ]
  },
  {
   "cell_type": "code",
   "execution_count": 64,
   "id": "5682f203-e9f3-4bde-ae45-c9c40c60911f",
   "metadata": {},
   "outputs": [],
   "source": [
    "# aList + 3\n",
    "\n",
    "# TypeError: can only concatenate list (not \"int\") to list"
   ]
  },
  {
   "cell_type": "code",
   "execution_count": 60,
   "id": "ad2b8693-3ed5-44af-b7e2-167f85e1d315",
   "metadata": {},
   "outputs": [
    {
     "data": {
      "text/plain": [
       "[0, 1, 2, 4, 5, 3]"
      ]
     },
     "execution_count": 60,
     "metadata": {},
     "output_type": "execute_result"
    }
   ],
   "source": [
    "aList + [3]"
   ]
  },
  {
   "cell_type": "code",
   "execution_count": 62,
   "id": "22d63f4c-b7df-41e5-8550-2361cbc75100",
   "metadata": {},
   "outputs": [
    {
     "data": {
      "text/plain": [
       "array([ 0,  3,  6, 12, 15])"
      ]
     },
     "execution_count": 62,
     "metadata": {},
     "output_type": "execute_result"
    }
   ],
   "source": [
    "aList_np * 3"
   ]
  },
  {
   "cell_type": "markdown",
   "id": "08ffbf7c-5d32-4c58-be79-e33bbffc032b",
   "metadata": {},
   "source": [
    "# Exercise - my solution"
   ]
  },
  {
   "cell_type": "code",
   "execution_count": 167,
   "id": "7b64e789-fcc6-4ea1-97df-1ca934053532",
   "metadata": {},
   "outputs": [
    {
     "data": {
      "text/plain": [
       "[3, ['3', '4', '5'], 5.5, [4, 5, 6]]"
      ]
     },
     "execution_count": 167,
     "metadata": {},
     "output_type": "execute_result"
    }
   ],
   "source": [
    "listList = [3, ['3', '4', '5'], 5.5, [4, 5, 6]]\n",
    "listList"
   ]
  },
  {
   "cell_type": "code",
   "execution_count": null,
   "id": "2a2f7497-f816-41ec-a255-11995498feca",
   "metadata": {},
   "outputs": [],
   "source": []
  },
  {
   "cell_type": "code",
   "execution_count": 183,
   "id": "2dc5dba5-4356-43a2-b479-71fa41c6712b",
   "metadata": {},
   "outputs": [],
   "source": [
    "# for i in range(0, len(listList)):\n",
    "#     print(\"List element %g is %g and is of type %s.\" %(i, listList[i], type(listList[i])))\n",
    "    \n",
    "# TypeError: must be real number, not list"
   ]
  },
  {
   "cell_type": "code",
   "execution_count": 179,
   "id": "11fa3469-99ab-454b-8c42-2e58cb757993",
   "metadata": {},
   "outputs": [
    {
     "name": "stdout",
     "output_type": "stream",
     "text": [
      "List element 0 is 3 and is of type <class 'int'>.\n",
      "List element 1 is ['3', '4', '5'] and is of type <class 'list'>.\n",
      "List element 2 is 5.5 and is of type <class 'float'>.\n",
      "List element 3 is [4, 5, 6] and is of type <class 'list'>.\n"
     ]
    }
   ],
   "source": [
    "for i in range(0, len(listList)):\n",
    "    print(f\"List element {i} is {listList[i]} and is of type {type(listList[i])}.\")"
   ]
  },
  {
   "cell_type": "code",
   "execution_count": 185,
   "id": "e0ddc6c3-c4b2-44fa-bb1f-62330f10cd52",
   "metadata": {},
   "outputs": [
    {
     "name": "stdout",
     "output_type": "stream",
     "text": [
      "List element 0 is 3 and is of type int.\n",
      "List element 1 is ['3', '4', '5'] and is of type list.\n",
      "List element 2 is 5.5 and is of type float.\n",
      "List element 3 is [4, 5, 6] and is of type list.\n"
     ]
    }
   ],
   "source": [
    "for i in range(0, len(listList)):\n",
    "    print(f\"List element {i} is {listList[i]} and is of type {type(listList[i]).__name__}.\")"
   ]
  },
  {
   "cell_type": "markdown",
   "id": "385c9ccc-a0f6-4cba-8d6d-3c3270d9e167",
   "metadata": {},
   "source": [
    "# Exercise - course solution"
   ]
  },
  {
   "cell_type": "code",
   "execution_count": 202,
   "id": "ca04f10b-119e-4703-8aa4-b22044d31da2",
   "metadata": {},
   "outputs": [
    {
     "data": {
      "text/plain": [
       "[3, ['3', '4', '5'], 5.5, [4, 5, 6]]"
      ]
     },
     "execution_count": 202,
     "metadata": {},
     "output_type": "execute_result"
    }
   ],
   "source": [
    "listList = [3, ['3', '4', '5'], 5.5, [4, 5, 6]]\n",
    "listList"
   ]
  },
  {
   "cell_type": "code",
   "execution_count": 214,
   "id": "4ab10f5a-a08d-4f61-85aa-31ab307e8e98",
   "metadata": {},
   "outputs": [
    {
     "name": "stdout",
     "output_type": "stream",
     "text": [
      "List element 0 is 3 and is of type of <class 'int'>\n",
      "List element 1 is ['3', '4', '5'] and is of type of <class 'int'>\n",
      "List element 2 is 5.5 and is of type of <class 'int'>\n",
      "List element 3 is [4, 5, 6] and is of type of <class 'int'>\n"
     ]
    }
   ],
   "source": [
    "for item in range(len(listList)):\n",
    "    print(f'List element {item} is {listList[item]} and is of type of {type(item)}')"
   ]
  },
  {
   "cell_type": "code",
   "execution_count": 216,
   "id": "58c30210-b6e4-40fa-bfe4-a86431ee689d",
   "metadata": {},
   "outputs": [
    {
     "name": "stdout",
     "output_type": "stream",
     "text": [
      "0 M\n",
      "1 i\n",
      "2 k\n",
      "3 e\n"
     ]
    }
   ],
   "source": [
    "s = 'Mike'\n",
    "\n",
    "for i, letter in enumerate(s):\n",
    "    print(i, letter)"
   ]
  },
  {
   "cell_type": "code",
   "execution_count": 220,
   "id": "66f64922-1a9e-47bd-92f3-6c510e60586a",
   "metadata": {},
   "outputs": [
    {
     "name": "stdout",
     "output_type": "stream",
     "text": [
      "List element 0 is 3 and is of type of <class 'int'>\n",
      "List element 1 is ['3', '4', '5'] and is of type of <class 'list'>\n",
      "List element 2 is 5.5 and is of type of <class 'float'>\n",
      "List element 3 is [4, 5, 6] and is of type of <class 'list'>\n"
     ]
    }
   ],
   "source": [
    "for idx, item in enumerate(listList):\n",
    "    print(f'List element {idx} is {item} and is of type of {type(item)}')"
   ]
  },
  {
   "cell_type": "code",
   "execution_count": 236,
   "id": "5b956e28-6ca3-45fd-a7a2-203308cb5f24",
   "metadata": {},
   "outputs": [
    {
     "name": "stdout",
     "output_type": "stream",
     "text": [
      "List element 0 is 3 and is of type of int.\n",
      "List element 1 is ['3', '4', '5'] and is of type of list.\n",
      "List element 2 is 5.5 and is of type of float.\n",
      "List element 3 is [4, 5, 6] and is of type of list.\n"
     ]
    }
   ],
   "source": [
    "for idx, item in enumerate(listList):\n",
    "    t = str(type(item))[8:][:-2]\n",
    "    \n",
    "    print(f'List element {idx} is {item} and is of type of {t}.')"
   ]
  },
  {
   "cell_type": "code",
   "execution_count": 238,
   "id": "63bf5f58-91e7-4c5c-8bcd-5f6284e07bc7",
   "metadata": {},
   "outputs": [
    {
     "name": "stdout",
     "output_type": "stream",
     "text": [
      "List element 0 is 3 and is of type of int.\n",
      "List element 1 is ['3', '4', '5'] and is of type of list.\n",
      "List element 2 is 5.5 and is of type of float.\n",
      "List element 3 is [4, 5, 6] and is of type of list.\n"
     ]
    }
   ],
   "source": [
    "for idx, item in enumerate(listList):\n",
    "    t = str(type(item))[8:]\n",
    "    apost = t.find(\"'\")\n",
    "    \n",
    "    print(f'List element {idx} is {item} and is of type of {t[:apost]}.')"
   ]
  }
 ],
 "metadata": {
  "kernelspec": {
   "display_name": "Python [conda env:base] *",
   "language": "python",
   "name": "conda-base-py"
  },
  "language_info": {
   "codemirror_mode": {
    "name": "ipython",
    "version": 3
   },
   "file_extension": ".py",
   "mimetype": "text/x-python",
   "name": "python",
   "nbconvert_exporter": "python",
   "pygments_lexer": "ipython3",
   "version": "3.12.7"
  }
 },
 "nbformat": 4,
 "nbformat_minor": 5
}
