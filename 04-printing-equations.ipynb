{
 "cells": [
  {
   "cell_type": "markdown",
   "id": "b2501ed7-9d5e-4394-b825-1879d8fa5e2c",
   "metadata": {},
   "source": [
    "# Import necessary functions"
   ]
  },
  {
   "cell_type": "code",
   "execution_count": 146,
   "id": "d99186d7-84b9-41f1-ab30-6e18e0001d88",
   "metadata": {},
   "outputs": [],
   "source": [
    "from IPython.display import display, Math"
   ]
  },
  {
   "cell_type": "markdown",
   "id": "c24ce94b-b2c7-494d-b06d-b1cdb2e3d2d3",
   "metadata": {},
   "source": [
    "# Usage"
   ]
  },
  {
   "cell_type": "code",
   "execution_count": 4,
   "id": "b1696ef1-8dd8-4f21-9b01-0ed8f24fab51",
   "metadata": {},
   "outputs": [
    {
     "data": {
      "text/plain": [
       "'4 + 3 = 7'"
      ]
     },
     "metadata": {},
     "output_type": "display_data"
    }
   ],
   "source": [
    "display('4 + 3 = 7')"
   ]
  },
  {
   "cell_type": "code",
   "execution_count": 14,
   "id": "704d5750-0d9e-4fa5-b53c-22b30a0ff5af",
   "metadata": {},
   "outputs": [
    {
     "data": {
      "text/plain": [
       "'4 + 3 = 7'"
      ]
     },
     "metadata": {},
     "output_type": "display_data"
    }
   ],
   "source": [
    "display('4 + 3 = ' + str(4 + 3))"
   ]
  },
  {
   "cell_type": "code",
   "execution_count": 16,
   "id": "934f657f-4a0e-4981-a95c-4f48570f7727",
   "metadata": {},
   "outputs": [
    {
     "data": {
      "text/latex": [
       "$\\displaystyle 4 + 3 = 7$"
      ],
      "text/plain": [
       "<IPython.core.display.Math object>"
      ]
     },
     "metadata": {},
     "output_type": "display_data"
    }
   ],
   "source": [
    "display(Math('4 + 3 = 7'))"
   ]
  },
  {
   "cell_type": "code",
   "execution_count": 22,
   "id": "dbf0fe3d-1783-43a7-a832-edd6d1e25bf2",
   "metadata": {},
   "outputs": [],
   "source": [
    "x = 4\n",
    "y = 5"
   ]
  },
  {
   "cell_type": "code",
   "execution_count": 30,
   "id": "c082e3bd-662c-487c-9e95-9c3fa5d09dd6",
   "metadata": {},
   "outputs": [
    {
     "data": {
      "text/latex": [
       "$\\displaystyle 45$"
      ],
      "text/plain": [
       "<IPython.core.display.Math object>"
      ]
     },
     "metadata": {},
     "output_type": "display_data"
    }
   ],
   "source": [
    "display(Math(str(x) + str(y)))"
   ]
  },
  {
   "cell_type": "code",
   "execution_count": 42,
   "id": "930ba6a1-f04e-4858-a3db-803b24dd7180",
   "metadata": {},
   "outputs": [
    {
     "data": {
      "text/latex": [
       "$\\displaystyle 4+5=9$"
      ],
      "text/plain": [
       "<IPython.core.display.Math object>"
      ]
     },
     "metadata": {},
     "output_type": "display_data"
    }
   ],
   "source": [
    "display(Math(str(x) + '+' + str(y) + '=' + str(x + y)))"
   ]
  },
  {
   "cell_type": "code",
   "execution_count": 48,
   "id": "a9729f26-9bff-4ca5-a9a0-e58c567ab988",
   "metadata": {},
   "outputs": [
    {
     "data": {
      "text/latex": [
       "$\\displaystyle 4 + 5 = 9$"
      ],
      "text/plain": [
       "<IPython.core.display.Math object>"
      ]
     },
     "metadata": {},
     "output_type": "display_data"
    }
   ],
   "source": [
    "display(Math('%g + %g = %g' %(x, y, x + y)))"
   ]
  },
  {
   "cell_type": "code",
   "execution_count": 52,
   "id": "05d97643-6404-4a60-a3ee-0b6d6ebacd65",
   "metadata": {},
   "outputs": [
    {
     "data": {
      "text/latex": [
       "$\\displaystyle 4/5 = .8$"
      ],
      "text/plain": [
       "<IPython.core.display.Math object>"
      ]
     },
     "metadata": {},
     "output_type": "display_data"
    }
   ],
   "source": [
    "display(Math('4/5 = .8'))"
   ]
  },
  {
   "cell_type": "code",
   "execution_count": 56,
   "id": "297d4f88-93d1-4c64-a2a4-71e153c41b13",
   "metadata": {},
   "outputs": [
    {
     "data": {
      "text/latex": [
       "$\\displaystyle \\frac{4}{5} = .8$"
      ],
      "text/plain": [
       "<IPython.core.display.Math object>"
      ]
     },
     "metadata": {},
     "output_type": "display_data"
    }
   ],
   "source": [
    "display(Math('\\\\frac{4}{5} = .8'))"
   ]
  },
  {
   "cell_type": "code",
   "execution_count": 58,
   "id": "8fc2155b-f827-4ebb-b09f-e65200cd9b1a",
   "metadata": {},
   "outputs": [],
   "source": [
    "x = 3.4\n",
    "y = 17"
   ]
  },
  {
   "cell_type": "code",
   "execution_count": 60,
   "id": "cb0ef559-10b2-4fd0-aeb7-436f35787643",
   "metadata": {},
   "outputs": [
    {
     "data": {
      "text/latex": [
       "$\\displaystyle 3.4 * 17 = 57.8$"
      ],
      "text/plain": [
       "<IPython.core.display.Math object>"
      ]
     },
     "metadata": {},
     "output_type": "display_data"
    }
   ],
   "source": [
    "display(Math('%g * %g = %g' %(x, y, x*y) ))"
   ]
  },
  {
   "cell_type": "code",
   "execution_count": 70,
   "id": "368c903d-f2de-4f51-be6c-d7719a55bcda",
   "metadata": {},
   "outputs": [
    {
     "data": {
      "text/latex": [
       "$\\displaystyle 3.4 x 17 = 57.8$"
      ],
      "text/plain": [
       "<IPython.core.display.Math object>"
      ]
     },
     "metadata": {},
     "output_type": "display_data"
    }
   ],
   "source": [
    "display(Math('%g x %g = %g' %(x, y, x*y)))"
   ]
  },
  {
   "cell_type": "code",
   "execution_count": 62,
   "id": "a17809fd-8f00-4e08-a7d9-21047a7c4d0a",
   "metadata": {},
   "outputs": [
    {
     "data": {
      "text/latex": [
       "$\\displaystyle 3.4 \\times 17 = 57.8$"
      ],
      "text/plain": [
       "<IPython.core.display.Math object>"
      ]
     },
     "metadata": {},
     "output_type": "display_data"
    }
   ],
   "source": [
    "display(Math('%g \\\\times %g = %g' %(x, y, x*y) ))"
   ]
  },
  {
   "cell_type": "markdown",
   "id": "dc61d31b-8730-41a1-9f16-baff4c64de10",
   "metadata": {},
   "source": [
    "# Exercises - My solution"
   ]
  },
  {
   "cell_type": "code",
   "execution_count": 84,
   "id": "442ad560-e5e1-41e6-9683-3ba69cf6def5",
   "metadata": {},
   "outputs": [],
   "source": [
    "x = 7\n",
    "y = -2\n",
    "z = 5"
   ]
  },
  {
   "cell_type": "markdown",
   "id": "2e85d502-ab2a-4433-a848-34fb31487555",
   "metadata": {},
   "source": [
    "## 1"
   ]
  },
  {
   "cell_type": "markdown",
   "id": "aa52992d-e77f-4be4-9a28-768a84e1643a",
   "metadata": {},
   "source": [
    "### a"
   ]
  },
  {
   "cell_type": "code",
   "execution_count": 129,
   "id": "9a8890b3-25b1-4676-b0cf-09e0b56382ec",
   "metadata": {},
   "outputs": [
    {
     "data": {
      "text/latex": [
       "$\\displaystyle 3x(4 + y)=42$"
      ],
      "text/plain": [
       "<IPython.core.display.Math object>"
      ]
     },
     "metadata": {},
     "output_type": "display_data"
    }
   ],
   "source": [
    "display(Math('3x(4 + y)' + '=' + str(3*x*(4 + y))))"
   ]
  },
  {
   "cell_type": "markdown",
   "id": "7833687f-7fa0-4878-88d8-aa40ba3447f9",
   "metadata": {},
   "source": [
    "### b"
   ]
  },
  {
   "cell_type": "code",
   "execution_count": 137,
   "id": "4fbf16ef-9c5b-4a98-8803-fd0782575748",
   "metadata": {},
   "outputs": [
    {
     "data": {
      "text/latex": [
       "$\\displaystyle 3 \\times 7 (4 + -2)=42$"
      ],
      "text/plain": [
       "<IPython.core.display.Math object>"
      ]
     },
     "metadata": {},
     "output_type": "display_data"
    }
   ],
   "source": [
    "display(Math('3 \\\\times 7 (4 + -2)' + '=' + str(3*x*(4 + y))))"
   ]
  },
  {
   "cell_type": "markdown",
   "id": "46902706-ff8f-4410-89a8-2ed70de9019b",
   "metadata": {},
   "source": [
    "## 2"
   ]
  },
  {
   "cell_type": "markdown",
   "id": "d501be03-5bd9-4586-9574-cbec4fb9bd66",
   "metadata": {},
   "source": [
    "### a"
   ]
  },
  {
   "cell_type": "code",
   "execution_count": 142,
   "id": "0ca24daf-3021-46c7-a515-73452769eed2",
   "metadata": {},
   "outputs": [
    {
     "data": {
      "text/latex": [
       "$\\displaystyle -y- \\frac{x + 3}{z}=0$"
      ],
      "text/plain": [
       "<IPython.core.display.Math object>"
      ]
     },
     "metadata": {},
     "output_type": "display_data"
    }
   ],
   "source": [
    "display(Math('-y- \\\\frac{x + 3}{z}' + '=' + str(int(-y-(x + 3)/z))))"
   ]
  },
  {
   "cell_type": "markdown",
   "id": "e7ce4dfd-cc12-4a1c-a461-93663cb6aec1",
   "metadata": {},
   "source": [
    "### b"
   ]
  },
  {
   "cell_type": "code",
   "execution_count": 149,
   "id": "4d5ce374-c241-4136-87fe-49fe4116dc6b",
   "metadata": {},
   "outputs": [
    {
     "data": {
      "text/latex": [
       "$\\displaystyle --2 - \\frac{7 + 3}{5}=0$"
      ],
      "text/plain": [
       "<IPython.core.display.Math object>"
      ]
     },
     "metadata": {},
     "output_type": "display_data"
    }
   ],
   "source": [
    "display(Math('--2 - \\\\frac{7 + 3}{5}' + '=' + str(int(-y-(x + 3)/z))))"
   ]
  },
  {
   "cell_type": "markdown",
   "id": "80ef0fc5-3257-4d32-84db-cf389ba053f9",
   "metadata": {},
   "source": [
    "# Exercises - Course solution"
   ]
  },
  {
   "cell_type": "code",
   "execution_count": null,
   "id": "957f34c2-3c0e-449b-aa3f-6cd6622759a5",
   "metadata": {},
   "outputs": [],
   "source": []
  },
  {
   "cell_type": "code",
   "execution_count": null,
   "id": "71087945-2d06-41cc-bb74-74e3e9c38955",
   "metadata": {},
   "outputs": [],
   "source": []
  },
  {
   "cell_type": "code",
   "execution_count": null,
   "id": "a1df8cf7-4485-4f33-a976-fd3e57996113",
   "metadata": {},
   "outputs": [],
   "source": []
  },
  {
   "cell_type": "code",
   "execution_count": 180,
   "id": "a72a382d-f86f-495c-8330-98de7f13638c",
   "metadata": {},
   "outputs": [
    {
     "name": "stdout",
     "output_type": "stream",
     "text": [
      "42\n"
     ]
    },
    {
     "data": {
      "text/plain": [
       "0"
      ]
     },
     "execution_count": 180,
     "metadata": {},
     "output_type": "execute_result"
    }
   ],
   "source": [
    "x = 7\n",
    "y = -2\n",
    "z = 5\n",
    "\n",
    "ans_1 = 3*x*(4 + y)\n",
    "print(ans_1)\n",
    "\n",
    "ans_2 = int(-y - (x + 3)/z)\n",
    "ans_2"
   ]
  },
  {
   "cell_type": "markdown",
   "id": "a5983b40-1112-4339-9edf-8398a84670d8",
   "metadata": {},
   "source": [
    "## 1"
   ]
  },
  {
   "cell_type": "markdown",
   "id": "9080c757-7827-4ea1-8045-44ffbd2db9cd",
   "metadata": {},
   "source": [
    "### a"
   ]
  },
  {
   "cell_type": "code",
   "execution_count": 184,
   "id": "7be22866-9497-40b5-a502-f314ebdac9e9",
   "metadata": {},
   "outputs": [
    {
     "data": {
      "text/latex": [
       "$\\displaystyle 3x(4 + y) = 42$"
      ],
      "text/plain": [
       "<IPython.core.display.Math object>"
      ]
     },
     "metadata": {},
     "output_type": "display_data"
    }
   ],
   "source": [
    "display(Math('3x(4 + y) = %g' %ans_1))"
   ]
  },
  {
   "cell_type": "markdown",
   "id": "8b18d3fc-4a0b-43dd-a20f-21eb3721a3eb",
   "metadata": {},
   "source": [
    "### b"
   ]
  },
  {
   "cell_type": "code",
   "execution_count": 194,
   "id": "31591ecb-d398-4880-b410-b60c5e80a2d0",
   "metadata": {},
   "outputs": [
    {
     "data": {
      "text/latex": [
       "$\\displaystyle 3\\times7(4 + -2) = 42$"
      ],
      "text/plain": [
       "<IPython.core.display.Math object>"
      ]
     },
     "metadata": {},
     "output_type": "display_data"
    }
   ],
   "source": [
    "display(Math('3\\\\times%g(4 + %g) = %g' %(x, y, ans_1)))"
   ]
  },
  {
   "cell_type": "code",
   "execution_count": null,
   "id": "ae0d2cc1-6231-4fe8-aacd-03bf402e4141",
   "metadata": {},
   "outputs": [],
   "source": []
  },
  {
   "cell_type": "markdown",
   "id": "626bdad4-7283-47e9-a36f-09019c60d455",
   "metadata": {},
   "source": [
    "## 2"
   ]
  },
  {
   "cell_type": "markdown",
   "id": "fc85d37c-e281-406f-9031-a7cccb76d0bd",
   "metadata": {},
   "source": [
    "### a"
   ]
  },
  {
   "cell_type": "code",
   "execution_count": 224,
   "id": "5bf73fe5-de9c-49d6-a935-2bc31df0ca7a",
   "metadata": {},
   "outputs": [
    {
     "data": {
      "text/latex": [
       "$\\displaystyle -y - \\frac{(x \\times 3)}{z}  = 0$"
      ],
      "text/plain": [
       "<IPython.core.display.Math object>"
      ]
     },
     "metadata": {},
     "output_type": "display_data"
    }
   ],
   "source": [
    "display(Math('-y - \\\\frac{(x \\\\times 3)}{z}  = %g' %ans_2))"
   ]
  },
  {
   "cell_type": "markdown",
   "id": "9c67e179-6d50-4d46-ac05-cc393b351939",
   "metadata": {},
   "source": [
    "### b"
   ]
  },
  {
   "cell_type": "code",
   "execution_count": 232,
   "id": "13331333-a8c5-41de-99bb-85fe9a886b41",
   "metadata": {},
   "outputs": [
    {
     "data": {
      "text/latex": [
       "$\\displaystyle --2 - \\frac{(7 + 3)}{5} = 0$"
      ],
      "text/plain": [
       "<IPython.core.display.Math object>"
      ]
     },
     "metadata": {},
     "output_type": "display_data"
    }
   ],
   "source": [
    "display(Math('-%g - \\\\frac{(%g + 3)}{%g} = %g' %(y, x, z, ans_2)))"
   ]
  },
  {
   "cell_type": "code",
   "execution_count": null,
   "id": "aeccdbcb-30f8-42b0-b91c-10e7cbe2141b",
   "metadata": {},
   "outputs": [],
   "source": []
  },
  {
   "cell_type": "code",
   "execution_count": null,
   "id": "c6a7a2ca-7803-4231-90ce-7d8f99bdf8ff",
   "metadata": {},
   "outputs": [],
   "source": []
  }
 ],
 "metadata": {
  "kernelspec": {
   "display_name": "Python [conda env:base] *",
   "language": "python",
   "name": "conda-base-py"
  },
  "language_info": {
   "codemirror_mode": {
    "name": "ipython",
    "version": 3
   },
   "file_extension": ".py",
   "mimetype": "text/x-python",
   "name": "python",
   "nbconvert_exporter": "python",
   "pygments_lexer": "ipython3",
   "version": "3.12.7"
  }
 },
 "nbformat": 4,
 "nbformat_minor": 5
}
