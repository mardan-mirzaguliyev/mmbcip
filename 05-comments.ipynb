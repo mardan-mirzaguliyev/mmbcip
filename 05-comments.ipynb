{
 "cells": [
  {
   "cell_type": "code",
   "execution_count": 10,
   "id": "1f23e558-bab4-440a-b6a4-9ee73db95fcb",
   "metadata": {},
   "outputs": [
    {
     "data": {
      "text/plain": [
       "5"
      ]
     },
     "execution_count": 10,
     "metadata": {},
     "output_type": "execute_result"
    }
   ],
   "source": [
    "x = 5 # This used to be 2.5\n",
    "x"
   ]
  },
  {
   "cell_type": "code",
   "execution_count": 12,
   "id": "2c70811b-223b-4af1-85c2-363006772164",
   "metadata": {},
   "outputs": [],
   "source": [
    "# y = 3"
   ]
  },
  {
   "cell_type": "code",
   "execution_count": null,
   "id": "6b7daeee-a9a1-4059-9978-7ad1282db33c",
   "metadata": {},
   "outputs": [],
   "source": [
    "# This is where the variables are defined\n",
    "# This is where the functions are defined"
   ]
  },
  {
   "cell_type": "code",
   "execution_count": null,
   "id": "77c1464c-da23-4d0c-a2fa-47bb228c9215",
   "metadata": {},
   "outputs": [],
   "source": [
    "# Keyboard Shortcut: Windows + /"
   ]
  }
 ],
 "metadata": {
  "kernelspec": {
   "display_name": "Python [conda env:base] *",
   "language": "python",
   "name": "conda-base-py"
  },
  "language_info": {
   "codemirror_mode": {
    "name": "ipython",
    "version": 3
   },
   "file_extension": ".py",
   "mimetype": "text/x-python",
   "name": "python",
   "nbconvert_exporter": "python",
   "pygments_lexer": "ipython3",
   "version": "3.12.7"
  }
 },
 "nbformat": 4,
 "nbformat_minor": 5
}
