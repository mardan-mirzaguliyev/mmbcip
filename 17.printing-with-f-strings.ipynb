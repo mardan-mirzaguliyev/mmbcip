{
 "cells": [
  {
   "cell_type": "markdown",
   "id": "7b32aeab-1f43-4659-9678-d84544b224ae",
   "metadata": {},
   "source": [
    "# Load necessary libraries"
   ]
  },
  {
   "cell_type": "code",
   "execution_count": 5,
   "id": "ba8d3845-5530-40e1-b52e-2ca656744adf",
   "metadata": {},
   "outputs": [],
   "source": [
    "import sympy as sym\n",
    "from IPython.display import display, Math"
   ]
  },
  {
   "cell_type": "markdown",
   "id": "8c0b8523-151b-4e65-825e-c6138726c8d1",
   "metadata": {},
   "source": [
    "# Lecture"
   ]
  },
  {
   "cell_type": "code",
   "execution_count": 19,
   "id": "4fca9335-9321-44db-8ea1-f158a1cb841b",
   "metadata": {},
   "outputs": [
    {
     "name": "stdout",
     "output_type": "stream",
     "text": [
      "Hi my name is Mike and I eat 7 chocolates every day!!\n"
     ]
    }
   ],
   "source": [
    "svar = \"Mike\"\n",
    "nvar = 7\n",
    "\n",
    "print(f\"Hi my name is {svar} and I eat {nvar} chocolates every day!!\")"
   ]
  },
  {
   "cell_type": "code",
   "execution_count": 21,
   "id": "3e9cf971-dadb-49c5-b8c4-88f240db7e78",
   "metadata": {},
   "outputs": [],
   "source": [
    "x, y = sym.symbols(\"x, y\")"
   ]
  },
  {
   "cell_type": "code",
   "execution_count": 27,
   "id": "fc10e2bc-b604-4045-837e-ab22365526f6",
   "metadata": {},
   "outputs": [
    {
     "data": {
      "text/latex": [
       "$\\displaystyle \\frac{{x}}{y}$"
      ],
      "text/plain": [
       "<IPython.core.display.Math object>"
      ]
     },
     "metadata": {},
     "output_type": "display_data"
    }
   ],
   "source": [
    "display(Math(\"\\\\frac{%s}{y}\" %{x}))"
   ]
  },
  {
   "cell_type": "code",
   "execution_count": 31,
   "id": "878874a8-da77-4d05-ab72-6cc50d5fa620",
   "metadata": {},
   "outputs": [
    {
     "data": {
      "text/latex": [
       "$\\displaystyle \\frac{x}{y}$"
      ],
      "text/plain": [
       "<IPython.core.display.Math object>"
      ]
     },
     "metadata": {},
     "output_type": "display_data"
    }
   ],
   "source": [
    "display(Math(f\"\\\\frac{{x}}{{y}}\"))"
   ]
  },
  {
   "cell_type": "code",
   "execution_count": 33,
   "id": "0e4d8226-bf0c-4588-a4c7-4a26054a4cea",
   "metadata": {},
   "outputs": [],
   "source": [
    "expr = 3/x"
   ]
  },
  {
   "cell_type": "code",
   "execution_count": 39,
   "id": "d0f74025-4fd4-4cdc-ab61-4326b5748d6c",
   "metadata": {},
   "outputs": [
    {
     "data": {
      "text/latex": [
       "$\\displaystyle \\frac{\\frac{3}{x}}{y}$"
      ],
      "text/plain": [
       "<IPython.core.display.Math object>"
      ]
     },
     "metadata": {},
     "output_type": "display_data"
    }
   ],
   "source": [
    "display(Math(f\"\\\\frac{{{sym.latex(expr)}}}{{y}}\"))"
   ]
  },
  {
   "cell_type": "code",
   "execution_count": 41,
   "id": "8292dc4d-55ac-4655-af82-387b9802fc47",
   "metadata": {},
   "outputs": [
    {
     "data": {
      "text/latex": [
       "$\\displaystyle \\frac{\\frac{3}{x}}{y}$"
      ],
      "text/plain": [
       "<IPython.core.display.Math object>"
      ]
     },
     "metadata": {},
     "output_type": "display_data"
    }
   ],
   "source": [
    "display(Math(\"\\\\frac{%s}{%s}\" %(sym.latex(expr), y)))"
   ]
  },
  {
   "cell_type": "code",
   "execution_count": 53,
   "id": "948db2b1-84f3-4144-b808-408997f50480",
   "metadata": {},
   "outputs": [
    {
     "data": {
      "text/latex": [
       "$\\displaystyle \\frac{\\frac{3}{x}}{z}$"
      ],
      "text/plain": [
       "<IPython.core.display.Math object>"
      ]
     },
     "metadata": {},
     "output_type": "display_data"
    }
   ],
   "source": [
    "display(Math(f\"\\\\frac{{{sym.latex(expr)}}}{{z}}\"))\n",
    "\n",
    "# Semicolon prevents the second line from running\n",
    "Math(\"\\\\frac{%s}{%s}\" %(sym.latex(expr), y));"
   ]
  }
 ],
 "metadata": {
  "kernelspec": {
   "display_name": "Python [conda env:base] *",
   "language": "python",
   "name": "conda-base-py"
  },
  "language_info": {
   "codemirror_mode": {
    "name": "ipython",
    "version": 3
   },
   "file_extension": ".py",
   "mimetype": "text/x-python",
   "name": "python",
   "nbconvert_exporter": "python",
   "pygments_lexer": "ipython3",
   "version": "3.12.7"
  }
 },
 "nbformat": 4,
 "nbformat_minor": 5
}
