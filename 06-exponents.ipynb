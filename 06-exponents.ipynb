{
 "cells": [
  {
   "cell_type": "code",
   "execution_count": 34,
   "id": "2ffbc36d-a742-4f12-86ec-640e31a30722",
   "metadata": {},
   "outputs": [],
   "source": [
    "from IPython.display import display, Math"
   ]
  },
  {
   "cell_type": "markdown",
   "id": "2ad17161-7088-41fa-91fe-0a21c382eca2",
   "metadata": {},
   "source": [
    "# The law of exponents"
   ]
  },
  {
   "cell_type": "markdown",
   "id": "357a5667-77b3-45a2-861a-9c7b0cdf3023",
   "metadata": {},
   "source": [
    "If the same base numbers are the same, then the exponents can be added."
   ]
  },
  {
   "cell_type": "code",
   "execution_count": 6,
   "id": "a9452e16-3fbf-49c5-b469-678baa41bcfb",
   "metadata": {},
   "outputs": [
    {
     "data": {
      "text/plain": [
       "True"
      ]
     },
     "execution_count": 6,
     "metadata": {},
     "output_type": "execute_result"
    }
   ],
   "source": [
    "3**2*3**4 == 3**6"
   ]
  },
  {
   "cell_type": "code",
   "execution_count": 8,
   "id": "46028a6e-d7e7-4b6b-b443-7dd29f7794ad",
   "metadata": {},
   "outputs": [
    {
     "data": {
      "text/plain": [
       "1"
      ]
     },
     "execution_count": 8,
     "metadata": {},
     "output_type": "execute_result"
    }
   ],
   "source": [
    "# Not caret\n",
    "3^2"
   ]
  },
  {
   "cell_type": "code",
   "execution_count": 12,
   "id": "a589de76-234b-4ebc-be05-87cfb67bbddb",
   "metadata": {},
   "outputs": [
    {
     "data": {
      "text/plain": [
       "729"
      ]
     },
     "execution_count": 12,
     "metadata": {},
     "output_type": "execute_result"
    }
   ],
   "source": [
    "x = 6\n",
    "3**x"
   ]
  },
  {
   "cell_type": "code",
   "execution_count": 18,
   "id": "6fce2972-2741-44a6-ba49-4405b1c5dc72",
   "metadata": {},
   "outputs": [
    {
     "name": "stdout",
     "output_type": "stream",
     "text": [
      "27\n"
     ]
    },
    {
     "data": {
      "text/plain": [
       "27"
      ]
     },
     "execution_count": 18,
     "metadata": {},
     "output_type": "execute_result"
    }
   ],
   "source": [
    "print(3**3)\n",
    "3*3*3"
   ]
  },
  {
   "cell_type": "code",
   "execution_count": 22,
   "id": "0a0f7f74-51f9-43d6-80c8-756e1d6786ac",
   "metadata": {},
   "outputs": [
    {
     "name": "stdout",
     "output_type": "stream",
     "text": [
      "729\n",
      "729\n"
     ]
    }
   ],
   "source": [
    "print(3**2 * 3**4)\n",
    "print(3**(2 + 4))"
   ]
  },
  {
   "cell_type": "markdown",
   "id": "4362bbd6-cea3-425f-b439-b3df2c62828f",
   "metadata": {},
   "source": [
    "# Fractional Root"
   ]
  },
  {
   "cell_type": "code",
   "execution_count": 29,
   "id": "ae01e2ef-ea72-4a83-82e8-674903898597",
   "metadata": {},
   "outputs": [
    {
     "data": {
      "text/plain": [
       "2.0"
      ]
     },
     "execution_count": 29,
     "metadata": {},
     "output_type": "execute_result"
    }
   ],
   "source": [
    "4**(1/2)"
   ]
  },
  {
   "cell_type": "code",
   "execution_count": 31,
   "id": "416a5ecd-b33e-4b20-85ec-7c37c7e2629e",
   "metadata": {},
   "outputs": [
    {
     "data": {
      "text/plain": [
       "3.0"
      ]
     },
     "execution_count": 31,
     "metadata": {},
     "output_type": "execute_result"
    }
   ],
   "source": [
    "9**(1/2)"
   ]
  },
  {
   "cell_type": "markdown",
   "id": "12e67215-630d-44e9-9e2d-9cdb012ac7d9",
   "metadata": {},
   "source": [
    "# LaTeX"
   ]
  },
  {
   "cell_type": "code",
   "execution_count": 37,
   "id": "73d2d49a-f861-4706-b52c-51e92d6a5afc",
   "metadata": {},
   "outputs": [
    {
     "data": {
      "text/latex": [
       "$\\displaystyle 1 + 2 = 3$"
      ],
      "text/plain": [
       "<IPython.core.display.Math object>"
      ]
     },
     "metadata": {},
     "output_type": "display_data"
    }
   ],
   "source": [
    "display(Math(\"1 + 2 = 3\"))"
   ]
  },
  {
   "cell_type": "code",
   "execution_count": 47,
   "id": "a8257b69-678b-498a-9243-f44679beaadd",
   "metadata": {},
   "outputs": [
    {
     "data": {
      "text/latex": [
       "$\\displaystyle 3^2\\times 3^4 = 3^{2+4}$"
      ],
      "text/plain": [
       "<IPython.core.display.Math object>"
      ]
     },
     "metadata": {},
     "output_type": "display_data"
    }
   ],
   "source": [
    "display(Math(\"3^2\\\\times 3^4 = 3^{2+4}\"))"
   ]
  },
  {
   "cell_type": "markdown",
   "id": "db647b45-2976-4714-9c57-cc65f3d8371e",
   "metadata": {},
   "source": [
    "# Exercises - My solution"
   ]
  },
  {
   "cell_type": "code",
   "execution_count": 68,
   "id": "6b6d260c-0d97-4cd6-931e-4924203aec7f",
   "metadata": {},
   "outputs": [],
   "source": [
    "x = 5\n",
    "y = 5.1"
   ]
  },
  {
   "cell_type": "markdown",
   "id": "26f93819-9d81-4156-935d-4af1d7fe7a44",
   "metadata": {},
   "source": [
    "## 1"
   ]
  },
  {
   "cell_type": "code",
   "execution_count": 72,
   "id": "691c7194-747c-4c8a-a21a-eb00df940c97",
   "metadata": {},
   "outputs": [
    {
     "data": {
      "text/plain": [
       "3933.09"
      ]
     },
     "execution_count": 72,
     "metadata": {},
     "output_type": "execute_result"
    }
   ],
   "source": [
    "round(x**(3/4) * 4**y, 2)"
   ]
  },
  {
   "cell_type": "code",
   "execution_count": 78,
   "id": "2ff8aef5-46e5-4791-84a8-96801789cdcf",
   "metadata": {},
   "outputs": [
    {
     "data": {
      "text/latex": [
       "$\\displaystyle x^{3/4}\\times 4^y = 3933.09$"
      ],
      "text/plain": [
       "<IPython.core.display.Math object>"
      ]
     },
     "metadata": {},
     "output_type": "display_data"
    }
   ],
   "source": [
    "display(Math(\"x^{3/4}\\\\times 4^y = 3933.09\"))"
   ]
  },
  {
   "cell_type": "markdown",
   "id": "2e1e5905-2876-4b89-93d6-7605a8914376",
   "metadata": {},
   "source": [
    "## 2"
   ]
  },
  {
   "cell_type": "code",
   "execution_count": 89,
   "id": "ae9de06d-f4f1-4a60-9c69-6b35bc88bdfb",
   "metadata": {},
   "outputs": [
    {
     "data": {
      "text/plain": [
       "0.0074"
      ]
     },
     "execution_count": 89,
     "metadata": {},
     "output_type": "execute_result"
    }
   ],
   "source": [
    "round(3**3/(x**y), 4)"
   ]
  },
  {
   "cell_type": "code",
   "execution_count": 93,
   "id": "b010575d-2b0b-419e-bb9f-2c7505eee6ed",
   "metadata": {},
   "outputs": [
    {
     "data": {
      "text/latex": [
       "$\\displaystyle \\frac{3^3}{x^y} = 0.00735558$"
      ],
      "text/plain": [
       "<IPython.core.display.Math object>"
      ]
     },
     "metadata": {},
     "output_type": "display_data"
    }
   ],
   "source": [
    "display(Math(\"\\\\frac{3^3}{x^y} = 0.00735558\"))"
   ]
  },
  {
   "cell_type": "markdown",
   "id": "646a277c-6e12-4839-8d54-5d98d9e91bd6",
   "metadata": {},
   "source": [
    "## 3"
   ]
  },
  {
   "cell_type": "code",
   "execution_count": 107,
   "id": "d61e412b-edc0-45a3-81f5-24180a383897",
   "metadata": {},
   "outputs": [
    {
     "data": {
      "text/plain": [
       "10"
      ]
     },
     "execution_count": 107,
     "metadata": {},
     "output_type": "execute_result"
    }
   ],
   "source": [
    "10**(x - 4)"
   ]
  },
  {
   "cell_type": "code",
   "execution_count": 100,
   "id": "baaef797-797e-4755-a4db-3c49032746d9",
   "metadata": {},
   "outputs": [
    {
     "data": {
      "text/latex": [
       "$\\displaystyle 10^{x - 4} = 10$"
      ],
      "text/plain": [
       "<IPython.core.display.Math object>"
      ]
     },
     "metadata": {},
     "output_type": "display_data"
    }
   ],
   "source": [
    "display(Math(\"10^{x - 4} = 10\"))"
   ]
  },
  {
   "cell_type": "markdown",
   "id": "2fc1e931-93c2-49fb-8a47-c41272bc6520",
   "metadata": {},
   "source": [
    "# Exercises - Course solution"
   ]
  },
  {
   "cell_type": "code",
   "execution_count": 111,
   "id": "de2a843c-7bdb-4bee-8163-001abd50ec40",
   "metadata": {},
   "outputs": [
    {
     "name": "stdout",
     "output_type": "stream",
     "text": [
      "3933.086147822751\n",
      "0.007355576930579584\n"
     ]
    },
    {
     "data": {
      "text/plain": [
       "10"
      ]
     },
     "execution_count": 111,
     "metadata": {},
     "output_type": "execute_result"
    }
   ],
   "source": [
    "x = 5\n",
    "y = 5.1\n",
    "\n",
    "ans_1 = x**(3/4) * 4**y\n",
    "ans_2 = 3**3/(x**y)\n",
    "ans_3 = 10**(x - 4)\n",
    "\n",
    "print(ans_1)\n",
    "print(ans_2)\n",
    "ans_3"
   ]
  },
  {
   "cell_type": "markdown",
   "id": "bfd5c6f4-6de9-4721-92ed-02d3cb461cd2",
   "metadata": {},
   "source": [
    "## 1"
   ]
  },
  {
   "cell_type": "code",
   "execution_count": null,
   "id": "81fcff1f-2c4e-418e-8189-6d8c358b2256",
   "metadata": {},
   "outputs": [],
   "source": []
  },
  {
   "cell_type": "code",
   "execution_count": 118,
   "id": "ca087aeb-2e1e-436a-a355-bb8a92f5908e",
   "metadata": {},
   "outputs": [
    {
     "data": {
      "text/latex": [
       "$\\displaystyle x^{3/4} \\times 4^y = 3933.09$"
      ],
      "text/plain": [
       "<IPython.core.display.Math object>"
      ]
     },
     "metadata": {},
     "output_type": "display_data"
    }
   ],
   "source": [
    "display(Math(\"x^{3/4} \\\\times 4^y = %g\" %ans_1))"
   ]
  },
  {
   "cell_type": "markdown",
   "id": "7be8ef98-586f-47c8-9785-5931b93b5000",
   "metadata": {},
   "source": [
    "## 2"
   ]
  },
  {
   "cell_type": "code",
   "execution_count": 120,
   "id": "34ed1457-9840-4a80-8620-586926397bb1",
   "metadata": {},
   "outputs": [
    {
     "data": {
      "text/latex": [
       "$\\displaystyle \\frac{3^3}{x^y} = 0.00735558$"
      ],
      "text/plain": [
       "<IPython.core.display.Math object>"
      ]
     },
     "metadata": {},
     "output_type": "display_data"
    }
   ],
   "source": [
    "display(Math(\"\\\\frac{3^3}{x^y} = %g\" %ans_2))"
   ]
  },
  {
   "cell_type": "markdown",
   "id": "1c7e966d-db39-476a-a146-d28496a73e33",
   "metadata": {},
   "source": [
    "## 3"
   ]
  },
  {
   "cell_type": "code",
   "execution_count": 124,
   "id": "bf660b4b-530f-4407-ba77-4e953fee3b44",
   "metadata": {},
   "outputs": [
    {
     "data": {
      "text/latex": [
       "$\\displaystyle 10^{x-4} = 10$"
      ],
      "text/plain": [
       "<IPython.core.display.Math object>"
      ]
     },
     "metadata": {},
     "output_type": "display_data"
    }
   ],
   "source": [
    "display(Math(\"10^{x-4} = %g\" %ans_3))"
   ]
  }
 ],
 "metadata": {
  "kernelspec": {
   "display_name": "Python [conda env:base] *",
   "language": "python",
   "name": "conda-base-py"
  },
  "language_info": {
   "codemirror_mode": {
    "name": "ipython",
    "version": 3
   },
   "file_extension": ".py",
   "mimetype": "text/x-python",
   "name": "python",
   "nbconvert_exporter": "python",
   "pygments_lexer": "ipython3",
   "version": "3.12.7"
  }
 },
 "nbformat": 4,
 "nbformat_minor": 5
}
